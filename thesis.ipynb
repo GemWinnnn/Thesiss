{
 "cells": [
  {
   "cell_type": "code",
   "execution_count": 15,
   "id": "9c6149a1",
   "metadata": {},
   "outputs": [
    {
     "name": "stdout",
     "output_type": "stream",
     "text": [
      "                   filename          label split\n",
      "0   184_1308073010307_A.npy  extra_systole  test\n",
      "1   275_1310990852160_B.npy  extra_systole  test\n",
      "2   140_1306519735121_D.npy  extra_systole  test\n",
      "3   213_1308245263936_D.npy  extra_systole  test\n",
      "4  134_1306428161797_C1.npy  extra_systole  test\n",
      "Classes: ['artifact', 'extra_heart_audio', 'extra_systole', 'murmur', 'normal']\n",
      "Loaded 1280 train and 118 test samples.\n",
      "Label mapping: {np.str_('artifact'): 0, np.str_('extra_heart_audio'): 1, np.str_('extra_systole'): 2, np.str_('murmur'): 3, np.str_('normal'): 4}\n",
      "Train set: (1280, 39, 196) (1280, 5)\n",
      "Test set: (118, 39, 196) (118, 5)\n",
      "Sample index 561\n",
      "MFCC shape: (39, 196)\n",
      "Label (one-hot): [0. 0. 0. 1. 0.]\n",
      "\n",
      "Sample index 825\n",
      "MFCC shape: (39, 196)\n",
      "Label (one-hot): [0. 0. 0. 0. 1.]\n",
      "\n",
      "Sample index 0\n",
      "MFCC shape: (39, 196)\n",
      "Label (one-hot): [0. 0. 1. 0. 0.]\n",
      "\n",
      "Sample index 502\n",
      "MFCC shape: (39, 196)\n",
      "Label (one-hot): [0. 0. 0. 1. 0.]\n",
      "\n",
      "Sample index 778\n",
      "MFCC shape: (39, 196)\n",
      "Label (one-hot): [0. 0. 0. 0. 1.]\n",
      "\n"
     ]
    }
   ],
   "source": [
    "import os\n",
    "import numpy as np\n",
    "import pandas as pd\n",
    "from sklearn.preprocessing import LabelEncoder, OneHotEncoder, StandardScaler\n",
    "import joblib\n",
    "import random\n",
    "\n",
    "# === Paths ===\n",
    "base_dir = \"/Users/gemwincanete/Thesis /datasets/mfccfeatures\"\n",
    "metadata_path = os.path.join(base_dir, \"metadata.csv\")\n",
    "\n",
    "# === Load metadata ===\n",
    "df = pd.read_csv(metadata_path)\n",
    "print(df.head())\n",
    "\n",
    "# === Classes from metadata ===\n",
    "class_names = sorted(df['label'].unique())\n",
    "print(\"Classes:\", class_names)\n",
    "\n",
    "X_train, y_train_labels = [], []\n",
    "X_test, y_test_labels = [], []\n",
    "\n",
    "# === Iterate rows using metadata ===\n",
    "for _, row in df.iterrows():\n",
    "    filename = row['filename']\n",
    "    label = row['label']\n",
    "    split = row['split']  # \"train\" or \"test\"\n",
    "\n",
    "    # NOTE: folder structure is /<label>/<split>/<filename>.npy\n",
    "    filepath = os.path.join(base_dir, label, split, filename)\n",
    "\n",
    "    if not os.path.exists(filepath):\n",
    "        print(\"Missing file:\", filepath)\n",
    "        continue\n",
    "\n",
    "    mfcc = np.load(filepath)\n",
    "\n",
    "    if split == \"train\":\n",
    "        X_train.append(mfcc)\n",
    "        y_train_labels.append(label)\n",
    "    elif split == \"test\":\n",
    "        X_test.append(mfcc)\n",
    "        y_test_labels.append(label)\n",
    "\n",
    "print(f\"Loaded {len(X_train)} train and {len(X_test)} test samples.\")\n",
    "\n",
    "# === Encode labels ===\n",
    "le = LabelEncoder()\n",
    "integer_labels_train = le.fit_transform(y_train_labels)\n",
    "integer_labels_test = le.transform(y_test_labels)\n",
    "\n",
    "label_mapping = dict(zip(le.classes_, range(len(le.classes_))))\n",
    "print(\"Label mapping:\", label_mapping)\n",
    "\n",
    "# === One-hot encode ===\n",
    "ohe = OneHotEncoder(sparse_output=False)\n",
    "y_train = ohe.fit_transform(integer_labels_train.reshape(-1, 1))\n",
    "y_test = ohe.transform(integer_labels_test.reshape(-1, 1))\n",
    "\n",
    "# === Pad sequences to max train length ===\n",
    "max_timesteps_train = max(mfcc.shape[1] for mfcc in X_train)\n",
    "X_train = np.array([\n",
    "    np.pad(mfcc, ((0, 0), (0, max_timesteps_train - mfcc.shape[1])), mode='constant')\n",
    "    for mfcc in X_train\n",
    "])\n",
    "X_test = np.array([\n",
    "    np.pad(mfcc, ((0, 0), (0, max_timesteps_train - mfcc.shape[1])), mode='constant')\n",
    "    for mfcc in X_test\n",
    "])\n",
    "\n",
    "# === Fit scaler ===\n",
    "all_train_frames = np.hstack(X_train)  # shape: (features, total_timesteps)\n",
    "scaler = StandardScaler().fit(all_train_frames.T)\n",
    "\n",
    "# Save scaler\n",
    "scaler_dir = \"/Users/gemwincanete/Thesis /models/scaler\"\n",
    "os.makedirs(scaler_dir, exist_ok=True)\n",
    "joblib.dump(scaler, os.path.join(scaler_dir, \"scaler.pkl\"))\n",
    "\n",
    "# Apply scaling\n",
    "X_train_scaled = np.array([scaler.transform(mfcc.T).T for mfcc in X_train])\n",
    "X_test_scaled = np.array([scaler.transform(mfcc.T).T for mfcc in X_test])\n",
    "\n",
    "# === Final sanity checks ===\n",
    "print(\"Train set:\", X_train_scaled.shape, y_train.shape)\n",
    "print(\"Test set:\", X_test_scaled.shape, y_test.shape)\n",
    "\n",
    "# Preview random samples\n",
    "rand_idx = random.sample(range(len(X_train_scaled)), min(5, len(X_train_scaled)))\n",
    "for i in rand_idx:\n",
    "    print(f\"Sample index {i}\")\n",
    "    print(\"MFCC shape:\", X_train_scaled[i].shape)\n",
    "    print(\"Label (one-hot):\", y_train[i])\n",
    "    print()\n"
   ]
  },
  {
   "cell_type": "markdown",
   "id": "d22f7aa8",
   "metadata": {},
   "source": [
    "Test \n",
    "117 test set overall\n",
    "1280 train set\n",
    "250 for classes: artifact, extra systole, extra heart sound, murmur\n",
    "280 for class normal\n"
   ]
  },
  {
   "cell_type": "markdown",
   "id": "cd140fea",
   "metadata": {},
   "source": [
    "Model Tensor flow"
   ]
  },
  {
   "cell_type": "code",
   "execution_count": 16,
   "id": "c8cd4fc0",
   "metadata": {},
   "outputs": [],
   "source": [
    "from tensorflow.keras.models import Sequential, Model\n",
    "from tensorflow.keras.layers import Input, LSTM, Dropout, Dense, Bidirectional\n",
    "from tensorflow.keras.losses import CategoricalCrossentropy\n",
    "from tensorflow.keras.metrics import Precision, Recall, F1Score\n",
    "from tensorflow.keras.callbacks import EarlyStopping, ModelCheckpoint\n",
    "\n",
    "import tensorflow as tf"
   ]
  },
  {
   "cell_type": "code",
   "execution_count": 17,
   "id": "1231fb12",
   "metadata": {},
   "outputs": [
    {
     "data": {
      "text/html": [
       "<pre style=\"white-space:pre;overflow-x:auto;line-height:normal;font-family:Menlo,'DejaVu Sans Mono',consolas,'Courier New',monospace\"><span style=\"font-weight: bold\">Model: \"sequential\"</span>\n",
       "</pre>\n"
      ],
      "text/plain": [
       "\u001b[1mModel: \"sequential\"\u001b[0m\n"
      ]
     },
     "metadata": {},
     "output_type": "display_data"
    },
    {
     "data": {
      "text/html": [
       "<pre style=\"white-space:pre;overflow-x:auto;line-height:normal;font-family:Menlo,'DejaVu Sans Mono',consolas,'Courier New',monospace\">┏━━━━━━━━━━━━━━━━━━━━━━━━━━━━━━━━━┳━━━━━━━━━━━━━━━━━━━━━━━━┳━━━━━━━━━━━━━━━┓\n",
       "┃<span style=\"font-weight: bold\"> Layer (type)                    </span>┃<span style=\"font-weight: bold\"> Output Shape           </span>┃<span style=\"font-weight: bold\">       Param # </span>┃\n",
       "┡━━━━━━━━━━━━━━━━━━━━━━━━━━━━━━━━━╇━━━━━━━━━━━━━━━━━━━━━━━━╇━━━━━━━━━━━━━━━┩\n",
       "│ bidirectional (<span style=\"color: #0087ff; text-decoration-color: #0087ff\">Bidirectional</span>)   │ (<span style=\"color: #00d7ff; text-decoration-color: #00d7ff\">None</span>, <span style=\"color: #00af00; text-decoration-color: #00af00\">196</span>, <span style=\"color: #00af00; text-decoration-color: #00af00\">128</span>)       │        <span style=\"color: #00af00; text-decoration-color: #00af00\">53,248</span> │\n",
       "├─────────────────────────────────┼────────────────────────┼───────────────┤\n",
       "│ dropout (<span style=\"color: #0087ff; text-decoration-color: #0087ff\">Dropout</span>)               │ (<span style=\"color: #00d7ff; text-decoration-color: #00d7ff\">None</span>, <span style=\"color: #00af00; text-decoration-color: #00af00\">196</span>, <span style=\"color: #00af00; text-decoration-color: #00af00\">128</span>)       │             <span style=\"color: #00af00; text-decoration-color: #00af00\">0</span> │\n",
       "├─────────────────────────────────┼────────────────────────┼───────────────┤\n",
       "│ bidirectional_1 (<span style=\"color: #0087ff; text-decoration-color: #0087ff\">Bidirectional</span>) │ (<span style=\"color: #00d7ff; text-decoration-color: #00d7ff\">None</span>, <span style=\"color: #00af00; text-decoration-color: #00af00\">64</span>)             │        <span style=\"color: #00af00; text-decoration-color: #00af00\">41,216</span> │\n",
       "├─────────────────────────────────┼────────────────────────┼───────────────┤\n",
       "│ dropout_1 (<span style=\"color: #0087ff; text-decoration-color: #0087ff\">Dropout</span>)             │ (<span style=\"color: #00d7ff; text-decoration-color: #00d7ff\">None</span>, <span style=\"color: #00af00; text-decoration-color: #00af00\">64</span>)             │             <span style=\"color: #00af00; text-decoration-color: #00af00\">0</span> │\n",
       "├─────────────────────────────────┼────────────────────────┼───────────────┤\n",
       "│ dense (<span style=\"color: #0087ff; text-decoration-color: #0087ff\">Dense</span>)                   │ (<span style=\"color: #00d7ff; text-decoration-color: #00d7ff\">None</span>, <span style=\"color: #00af00; text-decoration-color: #00af00\">64</span>)             │         <span style=\"color: #00af00; text-decoration-color: #00af00\">4,160</span> │\n",
       "├─────────────────────────────────┼────────────────────────┼───────────────┤\n",
       "│ dense_1 (<span style=\"color: #0087ff; text-decoration-color: #0087ff\">Dense</span>)                 │ (<span style=\"color: #00d7ff; text-decoration-color: #00d7ff\">None</span>, <span style=\"color: #00af00; text-decoration-color: #00af00\">5</span>)              │           <span style=\"color: #00af00; text-decoration-color: #00af00\">325</span> │\n",
       "└─────────────────────────────────┴────────────────────────┴───────────────┘\n",
       "</pre>\n"
      ],
      "text/plain": [
       "┏━━━━━━━━━━━━━━━━━━━━━━━━━━━━━━━━━┳━━━━━━━━━━━━━━━━━━━━━━━━┳━━━━━━━━━━━━━━━┓\n",
       "┃\u001b[1m \u001b[0m\u001b[1mLayer (type)                   \u001b[0m\u001b[1m \u001b[0m┃\u001b[1m \u001b[0m\u001b[1mOutput Shape          \u001b[0m\u001b[1m \u001b[0m┃\u001b[1m \u001b[0m\u001b[1m      Param #\u001b[0m\u001b[1m \u001b[0m┃\n",
       "┡━━━━━━━━━━━━━━━━━━━━━━━━━━━━━━━━━╇━━━━━━━━━━━━━━━━━━━━━━━━╇━━━━━━━━━━━━━━━┩\n",
       "│ bidirectional (\u001b[38;5;33mBidirectional\u001b[0m)   │ (\u001b[38;5;45mNone\u001b[0m, \u001b[38;5;34m196\u001b[0m, \u001b[38;5;34m128\u001b[0m)       │        \u001b[38;5;34m53,248\u001b[0m │\n",
       "├─────────────────────────────────┼────────────────────────┼───────────────┤\n",
       "│ dropout (\u001b[38;5;33mDropout\u001b[0m)               │ (\u001b[38;5;45mNone\u001b[0m, \u001b[38;5;34m196\u001b[0m, \u001b[38;5;34m128\u001b[0m)       │             \u001b[38;5;34m0\u001b[0m │\n",
       "├─────────────────────────────────┼────────────────────────┼───────────────┤\n",
       "│ bidirectional_1 (\u001b[38;5;33mBidirectional\u001b[0m) │ (\u001b[38;5;45mNone\u001b[0m, \u001b[38;5;34m64\u001b[0m)             │        \u001b[38;5;34m41,216\u001b[0m │\n",
       "├─────────────────────────────────┼────────────────────────┼───────────────┤\n",
       "│ dropout_1 (\u001b[38;5;33mDropout\u001b[0m)             │ (\u001b[38;5;45mNone\u001b[0m, \u001b[38;5;34m64\u001b[0m)             │             \u001b[38;5;34m0\u001b[0m │\n",
       "├─────────────────────────────────┼────────────────────────┼───────────────┤\n",
       "│ dense (\u001b[38;5;33mDense\u001b[0m)                   │ (\u001b[38;5;45mNone\u001b[0m, \u001b[38;5;34m64\u001b[0m)             │         \u001b[38;5;34m4,160\u001b[0m │\n",
       "├─────────────────────────────────┼────────────────────────┼───────────────┤\n",
       "│ dense_1 (\u001b[38;5;33mDense\u001b[0m)                 │ (\u001b[38;5;45mNone\u001b[0m, \u001b[38;5;34m5\u001b[0m)              │           \u001b[38;5;34m325\u001b[0m │\n",
       "└─────────────────────────────────┴────────────────────────┴───────────────┘\n"
      ]
     },
     "metadata": {},
     "output_type": "display_data"
    },
    {
     "data": {
      "text/html": [
       "<pre style=\"white-space:pre;overflow-x:auto;line-height:normal;font-family:Menlo,'DejaVu Sans Mono',consolas,'Courier New',monospace\"><span style=\"font-weight: bold\"> Total params: </span><span style=\"color: #00af00; text-decoration-color: #00af00\">98,949</span> (386.52 KB)\n",
       "</pre>\n"
      ],
      "text/plain": [
       "\u001b[1m Total params: \u001b[0m\u001b[38;5;34m98,949\u001b[0m (386.52 KB)\n"
      ]
     },
     "metadata": {},
     "output_type": "display_data"
    },
    {
     "data": {
      "text/html": [
       "<pre style=\"white-space:pre;overflow-x:auto;line-height:normal;font-family:Menlo,'DejaVu Sans Mono',consolas,'Courier New',monospace\"><span style=\"font-weight: bold\"> Trainable params: </span><span style=\"color: #00af00; text-decoration-color: #00af00\">98,949</span> (386.52 KB)\n",
       "</pre>\n"
      ],
      "text/plain": [
       "\u001b[1m Trainable params: \u001b[0m\u001b[38;5;34m98,949\u001b[0m (386.52 KB)\n"
      ]
     },
     "metadata": {},
     "output_type": "display_data"
    },
    {
     "data": {
      "text/html": [
       "<pre style=\"white-space:pre;overflow-x:auto;line-height:normal;font-family:Menlo,'DejaVu Sans Mono',consolas,'Courier New',monospace\"><span style=\"font-weight: bold\"> Non-trainable params: </span><span style=\"color: #00af00; text-decoration-color: #00af00\">0</span> (0.00 B)\n",
       "</pre>\n"
      ],
      "text/plain": [
       "\u001b[1m Non-trainable params: \u001b[0m\u001b[38;5;34m0\u001b[0m (0.00 B)\n"
      ]
     },
     "metadata": {},
     "output_type": "display_data"
    }
   ],
   "source": [
    "# Reshape to (samples, timesteps, features)\n",
    "X_train_final = np.array([mfcc.T for mfcc in X_train_scaled])\n",
    "X_test_final  = np.array([mfcc.T for mfcc in X_test_scaled])\n",
    "\n",
    "# Get dynamic input shape for LSTM\n",
    "input_shape = X_train_final[0].shape  # (timesteps, features)\n",
    "num_classes = y_train.shape[1]\n",
    "\n",
    "# Build model with dynamic input shape\n",
    "model = Sequential([\n",
    "    Input(shape=input_shape),\n",
    "    Bidirectional(LSTM(64, return_sequences=True)),\n",
    "    Dropout(0.3),\n",
    "    Bidirectional(LSTM(32)),\n",
    "    Dropout(0.3),\n",
    "    Dense(64, activation='relu'),\n",
    "    Dense(num_classes, activation='softmax')\n",
    "])\n",
    "\n",
    "model.compile(\n",
    "    optimizer='adam',\n",
    "    loss='categorical_crossentropy',\n",
    "    metrics=['accuracy', Precision(), Recall(), F1Score()]\n",
    ")\n",
    "\n",
    "model.summary()"
   ]
  },
  {
   "cell_type": "code",
   "execution_count": 18,
   "id": "0c7b9fb0",
   "metadata": {},
   "outputs": [
    {
     "data": {
      "text/plain": [
       "(196, 39)"
      ]
     },
     "execution_count": 18,
     "metadata": {},
     "output_type": "execute_result"
    }
   ],
   "source": [
    "input_shape"
   ]
  },
  {
   "cell_type": "code",
   "execution_count": 19,
   "id": "72424d4c",
   "metadata": {},
   "outputs": [
    {
     "name": "stdout",
     "output_type": "stream",
     "text": [
      "Epoch 1/100\n",
      "\u001b[1m32/32\u001b[0m \u001b[32m━━━━━━━━━━━━━━━━━━━━\u001b[0m\u001b[37m\u001b[0m \u001b[1m4s\u001b[0m 57ms/step - accuracy: 0.4245 - f1_score: 0.3061 - loss: 1.3510 - precision: 0.5921 - recall: 0.0522 - val_accuracy: 0.0117 - val_f1_score: 0.1200 - val_loss: 4.0073 - val_precision: 0.0000e+00 - val_recall: 0.0000e+00\n",
      "Epoch 2/100\n",
      "\u001b[1m32/32\u001b[0m \u001b[32m━━━━━━━━━━━━━━━━━━━━\u001b[0m\u001b[37m\u001b[0m \u001b[1m1s\u001b[0m 40ms/step - accuracy: 0.6138 - f1_score: 0.4868 - loss: 0.8239 - precision: 0.8599 - recall: 0.3710 - val_accuracy: 0.0195 - val_f1_score: 0.1667 - val_loss: 5.0282 - val_precision: 0.0138 - val_recall: 0.0117\n",
      "Epoch 3/100\n",
      "\u001b[1m32/32\u001b[0m \u001b[32m━━━━━━━━━━━━━━━━━━━━\u001b[0m\u001b[37m\u001b[0m \u001b[1m1s\u001b[0m 40ms/step - accuracy: 0.7362 - f1_score: 0.5925 - loss: 0.6250 - precision: 0.8089 - recall: 0.6255 - val_accuracy: 0.0117 - val_f1_score: 0.0500 - val_loss: 5.2631 - val_precision: 0.0166 - val_recall: 0.0117\n",
      "Epoch 4/100\n",
      "\u001b[1m32/32\u001b[0m \u001b[32m━━━━━━━━━━━━━━━━━━━━\u001b[0m\u001b[37m\u001b[0m \u001b[1m1s\u001b[0m 42ms/step - accuracy: 0.8268 - f1_score: 0.6649 - loss: 0.5036 - precision: 0.8522 - recall: 0.8024 - val_accuracy: 0.0117 - val_f1_score: 0.0353 - val_loss: 5.5364 - val_precision: 0.0164 - val_recall: 0.0117\n",
      "Epoch 5/100\n",
      "\u001b[1m32/32\u001b[0m \u001b[32m━━━━━━━━━━━━━━━━━━━━\u001b[0m\u001b[37m\u001b[0m \u001b[1m1s\u001b[0m 42ms/step - accuracy: 0.8316 - f1_score: 0.6644 - loss: 0.4222 - precision: 0.8573 - recall: 0.7980 - val_accuracy: 0.0195 - val_f1_score: 0.0317 - val_loss: 5.7420 - val_precision: 0.0314 - val_recall: 0.0195\n",
      "Epoch 6/100\n",
      "\u001b[1m32/32\u001b[0m \u001b[32m━━━━━━━━━━━━━━━━━━━━\u001b[0m\u001b[37m\u001b[0m \u001b[1m1s\u001b[0m 42ms/step - accuracy: 0.8766 - f1_score: 0.6997 - loss: 0.3452 - precision: 0.8907 - recall: 0.8622 - val_accuracy: 0.0117 - val_f1_score: 0.0174 - val_loss: 6.3236 - val_precision: 0.0160 - val_recall: 0.0117\n",
      "Epoch 7/100\n",
      "\u001b[1m32/32\u001b[0m \u001b[32m━━━━━━━━━━━━━━━━━━━━\u001b[0m\u001b[37m\u001b[0m \u001b[1m1s\u001b[0m 43ms/step - accuracy: 0.9131 - f1_score: 0.7300 - loss: 0.2834 - precision: 0.9202 - recall: 0.9020 - val_accuracy: 0.0195 - val_f1_score: 0.0138 - val_loss: 6.2358 - val_precision: 0.0239 - val_recall: 0.0195\n",
      "Epoch 8/100\n",
      "\u001b[1m32/32\u001b[0m \u001b[32m━━━━━━━━━━━━━━━━━━━━\u001b[0m\u001b[37m\u001b[0m \u001b[1m1s\u001b[0m 43ms/step - accuracy: 0.9235 - f1_score: 0.7390 - loss: 0.2534 - precision: 0.9358 - recall: 0.9115 - val_accuracy: 0.0195 - val_f1_score: 0.0133 - val_loss: 6.4829 - val_precision: 0.0230 - val_recall: 0.0195\n",
      "Epoch 9/100\n",
      "\u001b[1m32/32\u001b[0m \u001b[32m━━━━━━━━━━━━━━━━━━━━\u001b[0m\u001b[37m\u001b[0m \u001b[1m1s\u001b[0m 42ms/step - accuracy: 0.9343 - f1_score: 0.7483 - loss: 0.2161 - precision: 0.9383 - recall: 0.9221 - val_accuracy: 0.0156 - val_f1_score: 0.0106 - val_loss: 6.7110 - val_precision: 0.0176 - val_recall: 0.0156\n",
      "Epoch 10/100\n",
      "\u001b[1m32/32\u001b[0m \u001b[32m━━━━━━━━━━━━━━━━━━━━\u001b[0m\u001b[37m\u001b[0m \u001b[1m1s\u001b[0m 42ms/step - accuracy: 0.9563 - f1_score: 0.7666 - loss: 0.1459 - precision: 0.9624 - recall: 0.9511 - val_accuracy: 0.0195 - val_f1_score: 0.0136 - val_loss: 6.8799 - val_precision: 0.0211 - val_recall: 0.0195\n",
      "Epoch 11/100\n",
      "\u001b[1m32/32\u001b[0m \u001b[32m━━━━━━━━━━━━━━━━━━━━\u001b[0m\u001b[37m\u001b[0m \u001b[1m1s\u001b[0m 43ms/step - accuracy: 0.9375 - f1_score: 0.7499 - loss: 0.1647 - precision: 0.9427 - recall: 0.9363 - val_accuracy: 0.0195 - val_f1_score: 0.0102 - val_loss: 7.4711 - val_precision: 0.0206 - val_recall: 0.0195\n",
      "Epoch 12/100\n",
      "\u001b[1m32/32\u001b[0m \u001b[32m━━━━━━━━━━━━━━━━━━━━\u001b[0m\u001b[37m\u001b[0m \u001b[1m1s\u001b[0m 42ms/step - accuracy: 0.9410 - f1_score: 0.7549 - loss: 0.1483 - precision: 0.9454 - recall: 0.9315 - val_accuracy: 0.0195 - val_f1_score: 0.0104 - val_loss: 7.8863 - val_precision: 0.0202 - val_recall: 0.0195\n",
      "Epoch 13/100\n",
      "\u001b[1m32/32\u001b[0m \u001b[32m━━━━━━━━━━━━━━━━━━━━\u001b[0m\u001b[37m\u001b[0m \u001b[1m1s\u001b[0m 42ms/step - accuracy: 0.9690 - f1_score: 0.7740 - loss: 0.0857 - precision: 0.9728 - recall: 0.9683 - val_accuracy: 0.0195 - val_f1_score: 0.0092 - val_loss: 7.9630 - val_precision: 0.0205 - val_recall: 0.0195\n",
      "Epoch 14/100\n",
      "\u001b[1m32/32\u001b[0m \u001b[32m━━━━━━━━━━━━━━━━━━━━\u001b[0m\u001b[37m\u001b[0m \u001b[1m1s\u001b[0m 42ms/step - accuracy: 0.9829 - f1_score: 0.7865 - loss: 0.0877 - precision: 0.9855 - recall: 0.9816 - val_accuracy: 0.0195 - val_f1_score: 0.0100 - val_loss: 7.8841 - val_precision: 0.0204 - val_recall: 0.0195\n",
      "Epoch 15/100\n",
      "\u001b[1m32/32\u001b[0m \u001b[32m━━━━━━━━━━━━━━━━━━━━\u001b[0m\u001b[37m\u001b[0m \u001b[1m1s\u001b[0m 42ms/step - accuracy: 0.9926 - f1_score: 0.7943 - loss: 0.0461 - precision: 0.9926 - recall: 0.9888 - val_accuracy: 0.0195 - val_f1_score: 0.0110 - val_loss: 8.0714 - val_precision: 0.0198 - val_recall: 0.0195\n",
      "Epoch 16/100\n",
      "\u001b[1m32/32\u001b[0m \u001b[32m━━━━━━━━━━━━━━━━━━━━\u001b[0m\u001b[37m\u001b[0m \u001b[1m1s\u001b[0m 43ms/step - accuracy: 0.9925 - f1_score: 0.7939 - loss: 0.0371 - precision: 0.9928 - recall: 0.9925 - val_accuracy: 0.0195 - val_f1_score: 0.0098 - val_loss: 8.5765 - val_precision: 0.0200 - val_recall: 0.0195\n",
      "Epoch 17/100\n",
      "\u001b[1m32/32\u001b[0m \u001b[32m━━━━━━━━━━━━━━━━━━━━\u001b[0m\u001b[37m\u001b[0m \u001b[1m1s\u001b[0m 43ms/step - accuracy: 0.9972 - f1_score: 0.7978 - loss: 0.0222 - precision: 0.9971 - recall: 0.9966 - val_accuracy: 0.0195 - val_f1_score: 0.0092 - val_loss: 8.9639 - val_precision: 0.0198 - val_recall: 0.0195\n",
      "Epoch 18/100\n",
      "\u001b[1m32/32\u001b[0m \u001b[32m━━━━━━━━━━━━━━━━━━━━\u001b[0m\u001b[37m\u001b[0m \u001b[1m1s\u001b[0m 43ms/step - accuracy: 0.9982 - f1_score: 0.7986 - loss: 0.0229 - precision: 0.9982 - recall: 0.9957 - val_accuracy: 0.0195 - val_f1_score: 0.0096 - val_loss: 9.0502 - val_precision: 0.0196 - val_recall: 0.0195\n",
      "Epoch 19/100\n",
      "\u001b[1m32/32\u001b[0m \u001b[32m━━━━━━━━━━━━━━━━━━━━\u001b[0m\u001b[37m\u001b[0m \u001b[1m1s\u001b[0m 43ms/step - accuracy: 0.9936 - f1_score: 0.7948 - loss: 0.0196 - precision: 0.9936 - recall: 0.9923 - val_accuracy: 0.0195 - val_f1_score: 0.0097 - val_loss: 9.1317 - val_precision: 0.0198 - val_recall: 0.0195\n",
      "Epoch 20/100\n",
      "\u001b[1m32/32\u001b[0m \u001b[32m━━━━━━━━━━━━━━━━━━━━\u001b[0m\u001b[37m\u001b[0m \u001b[1m1s\u001b[0m 44ms/step - accuracy: 0.9955 - f1_score: 0.7964 - loss: 0.0215 - precision: 0.9957 - recall: 0.9947 - val_accuracy: 0.0195 - val_f1_score: 0.0097 - val_loss: 9.3490 - val_precision: 0.0197 - val_recall: 0.0195\n",
      "Epoch 21/100\n",
      "\u001b[1m32/32\u001b[0m \u001b[32m━━━━━━━━━━━━━━━━━━━━\u001b[0m\u001b[37m\u001b[0m \u001b[1m1s\u001b[0m 45ms/step - accuracy: 0.9881 - f1_score: 0.7902 - loss: 0.0423 - precision: 0.9882 - recall: 0.9881 - val_accuracy: 0.0195 - val_f1_score: 0.0098 - val_loss: 9.1347 - val_precision: 0.0201 - val_recall: 0.0195\n",
      "Epoch 22/100\n",
      "\u001b[1m32/32\u001b[0m \u001b[32m━━━━━━━━━━━━━━━━━━━━\u001b[0m\u001b[37m\u001b[0m \u001b[1m1s\u001b[0m 44ms/step - accuracy: 0.9702 - f1_score: 0.7761 - loss: 0.0933 - precision: 0.9736 - recall: 0.9668 - val_accuracy: 0.0195 - val_f1_score: 0.0112 - val_loss: 8.3784 - val_precision: 0.0202 - val_recall: 0.0195\n",
      "Epoch 23/100\n",
      "\u001b[1m32/32\u001b[0m \u001b[32m━━━━━━━━━━━━━━━━━━━━\u001b[0m\u001b[37m\u001b[0m \u001b[1m1s\u001b[0m 45ms/step - accuracy: 0.9930 - f1_score: 0.7945 - loss: 0.0301 - precision: 0.9930 - recall: 0.9909 - val_accuracy: 0.0195 - val_f1_score: 0.0103 - val_loss: 8.6942 - val_precision: 0.0199 - val_recall: 0.0195\n",
      "Epoch 24/100\n",
      "\u001b[1m32/32\u001b[0m \u001b[32m━━━━━━━━━━━━━━━━━━━━\u001b[0m\u001b[37m\u001b[0m \u001b[1m1s\u001b[0m 45ms/step - accuracy: 0.9937 - f1_score: 0.7948 - loss: 0.0283 - precision: 0.9937 - recall: 0.9937 - val_accuracy: 0.0195 - val_f1_score: 0.0106 - val_loss: 8.7934 - val_precision: 0.0201 - val_recall: 0.0195\n",
      "Epoch 25/100\n",
      "\u001b[1m32/32\u001b[0m \u001b[32m━━━━━━━━━━━━━━━━━━━━\u001b[0m\u001b[37m\u001b[0m \u001b[1m1s\u001b[0m 44ms/step - accuracy: 0.9993 - f1_score: 0.7995 - loss: 0.0080 - precision: 0.9993 - recall: 0.9993 - val_accuracy: 0.0195 - val_f1_score: 0.0104 - val_loss: 9.1295 - val_precision: 0.0204 - val_recall: 0.0195\n",
      "Epoch 26/100\n",
      "\u001b[1m32/32\u001b[0m \u001b[32m━━━━━━━━━━━━━━━━━━━━\u001b[0m\u001b[37m\u001b[0m \u001b[1m1s\u001b[0m 46ms/step - accuracy: 1.0000 - f1_score: 0.8000 - loss: 0.0051 - precision: 1.0000 - recall: 1.0000 - val_accuracy: 0.0195 - val_f1_score: 0.0104 - val_loss: 9.4267 - val_precision: 0.0206 - val_recall: 0.0195\n",
      "Epoch 27/100\n",
      "\u001b[1m32/32\u001b[0m \u001b[32m━━━━━━━━━━━━━━━━━━━━\u001b[0m\u001b[37m\u001b[0m \u001b[1m1s\u001b[0m 44ms/step - accuracy: 0.9995 - f1_score: 0.7996 - loss: 0.0057 - precision: 0.9995 - recall: 0.9988 - val_accuracy: 0.0195 - val_f1_score: 0.0104 - val_loss: 9.7091 - val_precision: 0.0201 - val_recall: 0.0195\n",
      "Epoch 28/100\n",
      "\u001b[1m32/32\u001b[0m \u001b[32m━━━━━━━━━━━━━━━━━━━━\u001b[0m\u001b[37m\u001b[0m \u001b[1m1s\u001b[0m 44ms/step - accuracy: 0.9994 - f1_score: 0.7995 - loss: 0.0054 - precision: 0.9994 - recall: 0.9994 - val_accuracy: 0.0195 - val_f1_score: 0.0104 - val_loss: 9.8179 - val_precision: 0.0201 - val_recall: 0.0195\n",
      "Epoch 29/100\n",
      "\u001b[1m32/32\u001b[0m \u001b[32m━━━━━━━━━━━━━━━━━━━━\u001b[0m\u001b[37m\u001b[0m \u001b[1m1s\u001b[0m 43ms/step - accuracy: 0.9997 - f1_score: 0.7998 - loss: 0.0044 - precision: 1.0000 - recall: 0.9997 - val_accuracy: 0.0195 - val_f1_score: 0.0108 - val_loss: 9.9528 - val_precision: 0.0198 - val_recall: 0.0195\n",
      "Epoch 30/100\n",
      "\u001b[1m32/32\u001b[0m \u001b[32m━━━━━━━━━━━━━━━━━━━━\u001b[0m\u001b[37m\u001b[0m \u001b[1m1s\u001b[0m 43ms/step - accuracy: 0.9993 - f1_score: 0.7994 - loss: 0.0040 - precision: 0.9993 - recall: 0.9993 - val_accuracy: 0.0195 - val_f1_score: 0.0105 - val_loss: 10.0061 - val_precision: 0.0198 - val_recall: 0.0195\n",
      "Epoch 31/100\n",
      "\u001b[1m32/32\u001b[0m \u001b[32m━━━━━━━━━━━━━━━━━━━━\u001b[0m\u001b[37m\u001b[0m \u001b[1m1s\u001b[0m 43ms/step - accuracy: 1.0000 - f1_score: 0.8000 - loss: 0.0034 - precision: 1.0000 - recall: 1.0000 - val_accuracy: 0.0195 - val_f1_score: 0.0106 - val_loss: 10.0859 - val_precision: 0.0200 - val_recall: 0.0195\n",
      "Epoch 32/100\n",
      "\u001b[1m32/32\u001b[0m \u001b[32m━━━━━━━━━━━━━━━━━━━━\u001b[0m\u001b[37m\u001b[0m \u001b[1m1s\u001b[0m 44ms/step - accuracy: 1.0000 - f1_score: 0.8000 - loss: 0.0032 - precision: 1.0000 - recall: 1.0000 - val_accuracy: 0.0195 - val_f1_score: 0.0103 - val_loss: 10.2429 - val_precision: 0.0199 - val_recall: 0.0195\n",
      "Epoch 33/100\n",
      "\u001b[1m32/32\u001b[0m \u001b[32m━━━━━━━━━━━━━━━━━━━━\u001b[0m\u001b[37m\u001b[0m \u001b[1m1s\u001b[0m 44ms/step - accuracy: 1.0000 - f1_score: 0.8000 - loss: 0.0017 - precision: 1.0000 - recall: 1.0000 - val_accuracy: 0.0195 - val_f1_score: 0.0103 - val_loss: 10.3520 - val_precision: 0.0198 - val_recall: 0.0195\n",
      "Epoch 34/100\n",
      "\u001b[1m32/32\u001b[0m \u001b[32m━━━━━━━━━━━━━━━━━━━━\u001b[0m\u001b[37m\u001b[0m \u001b[1m1s\u001b[0m 45ms/step - accuracy: 1.0000 - f1_score: 0.8000 - loss: 0.0014 - precision: 1.0000 - recall: 1.0000 - val_accuracy: 0.0195 - val_f1_score: 0.0101 - val_loss: 10.4446 - val_precision: 0.0198 - val_recall: 0.0195\n",
      "Epoch 35/100\n",
      "\u001b[1m32/32\u001b[0m \u001b[32m━━━━━━━━━━━━━━━━━━━━\u001b[0m\u001b[37m\u001b[0m \u001b[1m1s\u001b[0m 44ms/step - accuracy: 0.9996 - f1_score: 0.7997 - loss: 0.0016 - precision: 0.9996 - recall: 0.9996 - val_accuracy: 0.0195 - val_f1_score: 0.0102 - val_loss: 10.4880 - val_precision: 0.0198 - val_recall: 0.0195\n",
      "Epoch 36/100\n",
      "\u001b[1m32/32\u001b[0m \u001b[32m━━━━━━━━━━━━━━━━━━━━\u001b[0m\u001b[37m\u001b[0m \u001b[1m1s\u001b[0m 45ms/step - accuracy: 1.0000 - f1_score: 0.8000 - loss: 0.0011 - precision: 1.0000 - recall: 1.0000 - val_accuracy: 0.0195 - val_f1_score: 0.0101 - val_loss: 10.5490 - val_precision: 0.0198 - val_recall: 0.0195\n",
      "Epoch 37/100\n",
      "\u001b[1m32/32\u001b[0m \u001b[32m━━━━━━━━━━━━━━━━━━━━\u001b[0m\u001b[37m\u001b[0m \u001b[1m1s\u001b[0m 45ms/step - accuracy: 1.0000 - f1_score: 0.8000 - loss: 0.0010 - precision: 1.0000 - recall: 1.0000 - val_accuracy: 0.0195 - val_f1_score: 0.0101 - val_loss: 10.6558 - val_precision: 0.0198 - val_recall: 0.0195\n",
      "Epoch 38/100\n",
      "\u001b[1m32/32\u001b[0m \u001b[32m━━━━━━━━━━━━━━━━━━━━\u001b[0m\u001b[37m\u001b[0m \u001b[1m1s\u001b[0m 45ms/step - accuracy: 1.0000 - f1_score: 0.8000 - loss: 9.6433e-04 - precision: 1.0000 - recall: 1.0000 - val_accuracy: 0.0195 - val_f1_score: 0.0100 - val_loss: 10.7680 - val_precision: 0.0198 - val_recall: 0.0195\n",
      "Epoch 39/100\n",
      "\u001b[1m32/32\u001b[0m \u001b[32m━━━━━━━━━━━━━━━━━━━━\u001b[0m\u001b[37m\u001b[0m \u001b[1m1s\u001b[0m 45ms/step - accuracy: 1.0000 - f1_score: 0.8000 - loss: 0.0012 - precision: 1.0000 - recall: 1.0000 - val_accuracy: 0.0195 - val_f1_score: 0.0101 - val_loss: 10.7636 - val_precision: 0.0198 - val_recall: 0.0195\n",
      "Epoch 40/100\n",
      "\u001b[1m32/32\u001b[0m \u001b[32m━━━━━━━━━━━━━━━━━━━━\u001b[0m\u001b[37m\u001b[0m \u001b[1m1s\u001b[0m 45ms/step - accuracy: 1.0000 - f1_score: 0.8000 - loss: 7.7785e-04 - precision: 1.0000 - recall: 1.0000 - val_accuracy: 0.0195 - val_f1_score: 0.0101 - val_loss: 10.8528 - val_precision: 0.0196 - val_recall: 0.0195\n",
      "Epoch 41/100\n",
      "\u001b[1m32/32\u001b[0m \u001b[32m━━━━━━━━━━━━━━━━━━━━\u001b[0m\u001b[37m\u001b[0m \u001b[1m1s\u001b[0m 46ms/step - accuracy: 0.9973 - f1_score: 0.7978 - loss: 0.0100 - precision: 0.9973 - recall: 0.9973 - val_accuracy: 0.0195 - val_f1_score: 0.0099 - val_loss: 10.8302 - val_precision: 0.0198 - val_recall: 0.0195\n",
      "Epoch 42/100\n",
      "\u001b[1m32/32\u001b[0m \u001b[32m━━━━━━━━━━━━━━━━━━━━\u001b[0m\u001b[37m\u001b[0m \u001b[1m1s\u001b[0m 45ms/step - accuracy: 0.9766 - f1_score: 0.7818 - loss: 0.0715 - precision: 0.9766 - recall: 0.9766 - val_accuracy: 0.0195 - val_f1_score: 0.0100 - val_loss: 9.9363 - val_precision: 0.0198 - val_recall: 0.0195\n",
      "Epoch 43/100\n",
      "\u001b[1m32/32\u001b[0m \u001b[32m━━━━━━━━━━━━━━━━━━━━\u001b[0m\u001b[37m\u001b[0m \u001b[1m1s\u001b[0m 45ms/step - accuracy: 0.9658 - f1_score: 0.7730 - loss: 0.1093 - precision: 0.9660 - recall: 0.9650 - val_accuracy: 0.0195 - val_f1_score: 0.0131 - val_loss: 8.8904 - val_precision: 0.0198 - val_recall: 0.0195\n",
      "Epoch 44/100\n",
      "\u001b[1m32/32\u001b[0m \u001b[32m━━━━━━━━━━━━━━━━━━━━\u001b[0m\u001b[37m\u001b[0m \u001b[1m1s\u001b[0m 46ms/step - accuracy: 0.9910 - f1_score: 0.7931 - loss: 0.0324 - precision: 0.9912 - recall: 0.9910 - val_accuracy: 0.0195 - val_f1_score: 0.0116 - val_loss: 8.7508 - val_precision: 0.0204 - val_recall: 0.0195\n",
      "Epoch 45/100\n",
      "\u001b[1m32/32\u001b[0m \u001b[32m━━━━━━━━━━━━━━━━━━━━\u001b[0m\u001b[37m\u001b[0m \u001b[1m1s\u001b[0m 45ms/step - accuracy: 0.9869 - f1_score: 0.7896 - loss: 0.0516 - precision: 0.9869 - recall: 0.9869 - val_accuracy: 0.0195 - val_f1_score: 0.0098 - val_loss: 9.0300 - val_precision: 0.0201 - val_recall: 0.0195\n",
      "Epoch 46/100\n",
      "\u001b[1m32/32\u001b[0m \u001b[32m━━━━━━━━━━━━━━━━━━━━\u001b[0m\u001b[37m\u001b[0m \u001b[1m1s\u001b[0m 44ms/step - accuracy: 0.9912 - f1_score: 0.7933 - loss: 0.0353 - precision: 0.9942 - recall: 0.9912 - val_accuracy: 0.0195 - val_f1_score: 0.0094 - val_loss: 9.3879 - val_precision: 0.0198 - val_recall: 0.0195\n",
      "Epoch 47/100\n",
      "\u001b[1m32/32\u001b[0m \u001b[32m━━━━━━━━━━━━━━━━━━━━\u001b[0m\u001b[37m\u001b[0m \u001b[1m1s\u001b[0m 46ms/step - accuracy: 0.9991 - f1_score: 0.7993 - loss: 0.0090 - precision: 0.9991 - recall: 0.9988 - val_accuracy: 0.0195 - val_f1_score: 0.0095 - val_loss: 9.6826 - val_precision: 0.0197 - val_recall: 0.0195\n",
      "Epoch 48/100\n",
      "\u001b[1m32/32\u001b[0m \u001b[32m━━━━━━━━━━━━━━━━━━━━\u001b[0m\u001b[37m\u001b[0m \u001b[1m1s\u001b[0m 45ms/step - accuracy: 1.0000 - f1_score: 0.8000 - loss: 0.0061 - precision: 1.0000 - recall: 1.0000 - val_accuracy: 0.0195 - val_f1_score: 0.0094 - val_loss: 10.1212 - val_precision: 0.0197 - val_recall: 0.0195\n",
      "Epoch 49/100\n",
      "\u001b[1m32/32\u001b[0m \u001b[32m━━━━━━━━━━━━━━━━━━━━\u001b[0m\u001b[37m\u001b[0m \u001b[1m1s\u001b[0m 45ms/step - accuracy: 0.9983 - f1_score: 0.7987 - loss: 0.0062 - precision: 0.9983 - recall: 0.9983 - val_accuracy: 0.0195 - val_f1_score: 0.0094 - val_loss: 9.9857 - val_precision: 0.0198 - val_recall: 0.0195\n",
      "Epoch 50/100\n",
      "\u001b[1m32/32\u001b[0m \u001b[32m━━━━━━━━━━━━━━━━━━━━\u001b[0m\u001b[37m\u001b[0m \u001b[1m1s\u001b[0m 45ms/step - accuracy: 1.0000 - f1_score: 0.8000 - loss: 0.0031 - precision: 1.0000 - recall: 1.0000 - val_accuracy: 0.0195 - val_f1_score: 0.0094 - val_loss: 10.1500 - val_precision: 0.0198 - val_recall: 0.0195\n",
      "Epoch 51/100\n",
      "\u001b[1m32/32\u001b[0m \u001b[32m━━━━━━━━━━━━━━━━━━━━\u001b[0m\u001b[37m\u001b[0m \u001b[1m1s\u001b[0m 43ms/step - accuracy: 0.9995 - f1_score: 0.7996 - loss: 0.0047 - precision: 0.9995 - recall: 0.9995 - val_accuracy: 0.0195 - val_f1_score: 0.0095 - val_loss: 10.2553 - val_precision: 0.0197 - val_recall: 0.0195\n",
      "Epoch 52/100\n",
      "\u001b[1m32/32\u001b[0m \u001b[32m━━━━━━━━━━━━━━━━━━━━\u001b[0m\u001b[37m\u001b[0m \u001b[1m1s\u001b[0m 43ms/step - accuracy: 0.9961 - f1_score: 0.7968 - loss: 0.0243 - precision: 0.9961 - recall: 0.9961 - val_accuracy: 0.0195 - val_f1_score: 0.0092 - val_loss: 10.5553 - val_precision: 0.0197 - val_recall: 0.0195\n",
      "Epoch 53/100\n",
      "\u001b[1m32/32\u001b[0m \u001b[32m━━━━━━━━━━━━━━━━━━━━\u001b[0m\u001b[37m\u001b[0m \u001b[1m1s\u001b[0m 46ms/step - accuracy: 0.9975 - f1_score: 0.7979 - loss: 0.0085 - precision: 0.9975 - recall: 0.9975 - val_accuracy: 0.0195 - val_f1_score: 0.0094 - val_loss: 10.5337 - val_precision: 0.0197 - val_recall: 0.0195\n",
      "Epoch 54/100\n",
      "\u001b[1m32/32\u001b[0m \u001b[32m━━━━━━━━━━━━━━━━━━━━\u001b[0m\u001b[37m\u001b[0m \u001b[1m1s\u001b[0m 44ms/step - accuracy: 1.0000 - f1_score: 0.8000 - loss: 0.0030 - precision: 1.0000 - recall: 1.0000 - val_accuracy: 0.0195 - val_f1_score: 0.0093 - val_loss: 10.6118 - val_precision: 0.0197 - val_recall: 0.0195\n",
      "Epoch 55/100\n",
      "\u001b[1m32/32\u001b[0m \u001b[32m━━━━━━━━━━━━━━━━━━━━\u001b[0m\u001b[37m\u001b[0m \u001b[1m1s\u001b[0m 44ms/step - accuracy: 1.0000 - f1_score: 0.8000 - loss: 0.0017 - precision: 1.0000 - recall: 1.0000 - val_accuracy: 0.0195 - val_f1_score: 0.0095 - val_loss: 10.6853 - val_precision: 0.0197 - val_recall: 0.0195\n",
      "Epoch 56/100\n",
      "\u001b[1m32/32\u001b[0m \u001b[32m━━━━━━━━━━━━━━━━━━━━\u001b[0m\u001b[37m\u001b[0m \u001b[1m1s\u001b[0m 44ms/step - accuracy: 1.0000 - f1_score: 0.8000 - loss: 0.0013 - precision: 1.0000 - recall: 1.0000 - val_accuracy: 0.0195 - val_f1_score: 0.0096 - val_loss: 10.8262 - val_precision: 0.0197 - val_recall: 0.0195\n",
      "Epoch 57/100\n",
      "\u001b[1m32/32\u001b[0m \u001b[32m━━━━━━━━━━━━━━━━━━━━\u001b[0m\u001b[37m\u001b[0m \u001b[1m1s\u001b[0m 45ms/step - accuracy: 1.0000 - f1_score: 0.8000 - loss: 9.7895e-04 - precision: 1.0000 - recall: 1.0000 - val_accuracy: 0.0195 - val_f1_score: 0.0095 - val_loss: 10.9334 - val_precision: 0.0198 - val_recall: 0.0195\n",
      "Epoch 58/100\n",
      "\u001b[1m32/32\u001b[0m \u001b[32m━━━━━━━━━━━━━━━━━━━━\u001b[0m\u001b[37m\u001b[0m \u001b[1m1s\u001b[0m 45ms/step - accuracy: 1.0000 - f1_score: 0.8000 - loss: 0.0010 - precision: 1.0000 - recall: 1.0000 - val_accuracy: 0.0195 - val_f1_score: 0.0095 - val_loss: 11.0506 - val_precision: 0.0197 - val_recall: 0.0195\n",
      "Epoch 59/100\n",
      "\u001b[1m32/32\u001b[0m \u001b[32m━━━━━━━━━━━━━━━━━━━━\u001b[0m\u001b[37m\u001b[0m \u001b[1m2s\u001b[0m 48ms/step - accuracy: 1.0000 - f1_score: 0.8000 - loss: 9.6814e-04 - precision: 1.0000 - recall: 1.0000 - val_accuracy: 0.0195 - val_f1_score: 0.0095 - val_loss: 11.1673 - val_precision: 0.0198 - val_recall: 0.0195\n",
      "Epoch 60/100\n",
      "\u001b[1m32/32\u001b[0m \u001b[32m━━━━━━━━━━━━━━━━━━━━\u001b[0m\u001b[37m\u001b[0m \u001b[1m1s\u001b[0m 46ms/step - accuracy: 1.0000 - f1_score: 0.8000 - loss: 0.0013 - precision: 1.0000 - recall: 1.0000 - val_accuracy: 0.0195 - val_f1_score: 0.0094 - val_loss: 11.3036 - val_precision: 0.0196 - val_recall: 0.0195\n",
      "Epoch 61/100\n",
      "\u001b[1m32/32\u001b[0m \u001b[32m━━━━━━━━━━━━━━━━━━━━\u001b[0m\u001b[37m\u001b[0m \u001b[1m1s\u001b[0m 46ms/step - accuracy: 1.0000 - f1_score: 0.8000 - loss: 6.9445e-04 - precision: 1.0000 - recall: 1.0000 - val_accuracy: 0.0195 - val_f1_score: 0.0094 - val_loss: 11.3597 - val_precision: 0.0196 - val_recall: 0.0195\n",
      "Epoch 62/100\n",
      "\u001b[1m32/32\u001b[0m \u001b[32m━━━━━━━━━━━━━━━━━━━━\u001b[0m\u001b[37m\u001b[0m \u001b[1m2s\u001b[0m 48ms/step - accuracy: 1.0000 - f1_score: 0.8000 - loss: 8.3949e-04 - precision: 1.0000 - recall: 1.0000 - val_accuracy: 0.0195 - val_f1_score: 0.0095 - val_loss: 11.3860 - val_precision: 0.0197 - val_recall: 0.0195\n",
      "Epoch 63/100\n",
      "\u001b[1m32/32\u001b[0m \u001b[32m━━━━━━━━━━━━━━━━━━━━\u001b[0m\u001b[37m\u001b[0m \u001b[1m2s\u001b[0m 48ms/step - accuracy: 1.0000 - f1_score: 0.8000 - loss: 7.6233e-04 - precision: 1.0000 - recall: 1.0000 - val_accuracy: 0.0195 - val_f1_score: 0.0094 - val_loss: 11.4325 - val_precision: 0.0197 - val_recall: 0.0195\n",
      "Epoch 64/100\n",
      "\u001b[1m32/32\u001b[0m \u001b[32m━━━━━━━━━━━━━━━━━━━━\u001b[0m\u001b[37m\u001b[0m \u001b[1m1s\u001b[0m 46ms/step - accuracy: 1.0000 - f1_score: 0.8000 - loss: 0.0010 - precision: 1.0000 - recall: 1.0000 - val_accuracy: 0.0195 - val_f1_score: 0.0094 - val_loss: 11.4952 - val_precision: 0.0198 - val_recall: 0.0195\n",
      "Epoch 65/100\n",
      "\u001b[1m32/32\u001b[0m \u001b[32m━━━━━━━━━━━━━━━━━━━━\u001b[0m\u001b[37m\u001b[0m \u001b[1m2s\u001b[0m 48ms/step - accuracy: 1.0000 - f1_score: 0.8000 - loss: 5.7646e-04 - precision: 1.0000 - recall: 1.0000 - val_accuracy: 0.0195 - val_f1_score: 0.0094 - val_loss: 11.6266 - val_precision: 0.0196 - val_recall: 0.0195\n",
      "Epoch 66/100\n",
      "\u001b[1m32/32\u001b[0m \u001b[32m━━━━━━━━━━━━━━━━━━━━\u001b[0m\u001b[37m\u001b[0m \u001b[1m2s\u001b[0m 49ms/step - accuracy: 1.0000 - f1_score: 0.8000 - loss: 5.1096e-04 - precision: 1.0000 - recall: 1.0000 - val_accuracy: 0.0195 - val_f1_score: 0.0094 - val_loss: 11.6548 - val_precision: 0.0196 - val_recall: 0.0195\n",
      "Epoch 67/100\n",
      "\u001b[1m32/32\u001b[0m \u001b[32m━━━━━━━━━━━━━━━━━━━━\u001b[0m\u001b[37m\u001b[0m \u001b[1m1s\u001b[0m 45ms/step - accuracy: 1.0000 - f1_score: 0.8000 - loss: 5.7724e-04 - precision: 1.0000 - recall: 1.0000 - val_accuracy: 0.0195 - val_f1_score: 0.0095 - val_loss: 11.6945 - val_precision: 0.0197 - val_recall: 0.0195\n",
      "Epoch 68/100\n",
      "\u001b[1m32/32\u001b[0m \u001b[32m━━━━━━━━━━━━━━━━━━━━\u001b[0m\u001b[37m\u001b[0m \u001b[1m1s\u001b[0m 46ms/step - accuracy: 1.0000 - f1_score: 0.8000 - loss: 4.3819e-04 - precision: 1.0000 - recall: 1.0000 - val_accuracy: 0.0195 - val_f1_score: 0.0095 - val_loss: 11.7387 - val_precision: 0.0197 - val_recall: 0.0195\n",
      "Epoch 69/100\n",
      "\u001b[1m32/32\u001b[0m \u001b[32m━━━━━━━━━━━━━━━━━━━━\u001b[0m\u001b[37m\u001b[0m \u001b[1m1s\u001b[0m 46ms/step - accuracy: 1.0000 - f1_score: 0.8000 - loss: 6.8780e-04 - precision: 1.0000 - recall: 1.0000 - val_accuracy: 0.0195 - val_f1_score: 0.0095 - val_loss: 11.7216 - val_precision: 0.0196 - val_recall: 0.0195\n",
      "Epoch 70/100\n",
      "\u001b[1m32/32\u001b[0m \u001b[32m━━━━━━━━━━━━━━━━━━━━\u001b[0m\u001b[37m\u001b[0m \u001b[1m1s\u001b[0m 47ms/step - accuracy: 1.0000 - f1_score: 0.8000 - loss: 4.6520e-04 - precision: 1.0000 - recall: 1.0000 - val_accuracy: 0.0195 - val_f1_score: 0.0095 - val_loss: 11.7835 - val_precision: 0.0196 - val_recall: 0.0195\n",
      "Epoch 71/100\n",
      "\u001b[1m32/32\u001b[0m \u001b[32m━━━━━━━━━━━━━━━━━━━━\u001b[0m\u001b[37m\u001b[0m \u001b[1m2s\u001b[0m 47ms/step - accuracy: 1.0000 - f1_score: 0.8000 - loss: 6.3780e-04 - precision: 1.0000 - recall: 1.0000 - val_accuracy: 0.0195 - val_f1_score: 0.0095 - val_loss: 11.8374 - val_precision: 0.0196 - val_recall: 0.0195\n",
      "Epoch 72/100\n",
      "\u001b[1m32/32\u001b[0m \u001b[32m━━━━━━━━━━━━━━━━━━━━\u001b[0m\u001b[37m\u001b[0m \u001b[1m2s\u001b[0m 47ms/step - accuracy: 1.0000 - f1_score: 0.8000 - loss: 3.4471e-04 - precision: 1.0000 - recall: 1.0000 - val_accuracy: 0.0195 - val_f1_score: 0.0095 - val_loss: 11.8827 - val_precision: 0.0196 - val_recall: 0.0195\n",
      "Epoch 73/100\n",
      "\u001b[1m32/32\u001b[0m \u001b[32m━━━━━━━━━━━━━━━━━━━━\u001b[0m\u001b[37m\u001b[0m \u001b[1m2s\u001b[0m 47ms/step - accuracy: 1.0000 - f1_score: 0.8000 - loss: 6.2821e-04 - precision: 1.0000 - recall: 1.0000 - val_accuracy: 0.0195 - val_f1_score: 0.0095 - val_loss: 12.0055 - val_precision: 0.0197 - val_recall: 0.0195\n",
      "Epoch 74/100\n",
      "\u001b[1m32/32\u001b[0m \u001b[32m━━━━━━━━━━━━━━━━━━━━\u001b[0m\u001b[37m\u001b[0m \u001b[1m2s\u001b[0m 48ms/step - accuracy: 1.0000 - f1_score: 0.8000 - loss: 7.6787e-04 - precision: 1.0000 - recall: 1.0000 - val_accuracy: 0.0195 - val_f1_score: 0.0095 - val_loss: 12.1426 - val_precision: 0.0197 - val_recall: 0.0195\n",
      "Epoch 75/100\n",
      "\u001b[1m32/32\u001b[0m \u001b[32m━━━━━━━━━━━━━━━━━━━━\u001b[0m\u001b[37m\u001b[0m \u001b[1m2s\u001b[0m 48ms/step - accuracy: 1.0000 - f1_score: 0.8000 - loss: 3.3882e-04 - precision: 1.0000 - recall: 1.0000 - val_accuracy: 0.0195 - val_f1_score: 0.0095 - val_loss: 12.2390 - val_precision: 0.0197 - val_recall: 0.0195\n",
      "Epoch 76/100\n",
      "\u001b[1m32/32\u001b[0m \u001b[32m━━━━━━━━━━━━━━━━━━━━\u001b[0m\u001b[37m\u001b[0m \u001b[1m2s\u001b[0m 47ms/step - accuracy: 1.0000 - f1_score: 0.8000 - loss: 3.7861e-04 - precision: 1.0000 - recall: 1.0000 - val_accuracy: 0.0234 - val_f1_score: 0.0113 - val_loss: 12.3173 - val_precision: 0.0235 - val_recall: 0.0234\n",
      "Epoch 77/100\n",
      "\u001b[1m32/32\u001b[0m \u001b[32m━━━━━━━━━━━━━━━━━━━━\u001b[0m\u001b[37m\u001b[0m \u001b[1m1s\u001b[0m 47ms/step - accuracy: 0.9987 - f1_score: 0.7990 - loss: 0.0025 - precision: 0.9987 - recall: 0.9987 - val_accuracy: 0.0234 - val_f1_score: 0.0114 - val_loss: 12.1782 - val_precision: 0.0235 - val_recall: 0.0234\n",
      "Epoch 78/100\n",
      "\u001b[1m32/32\u001b[0m \u001b[32m━━━━━━━━━━━━━━━━━━━━\u001b[0m\u001b[37m\u001b[0m \u001b[1m1s\u001b[0m 46ms/step - accuracy: 1.0000 - f1_score: 0.8000 - loss: 2.3607e-04 - precision: 1.0000 - recall: 1.0000 - val_accuracy: 0.0234 - val_f1_score: 0.0114 - val_loss: 12.2188 - val_precision: 0.0235 - val_recall: 0.0234\n",
      "Epoch 79/100\n",
      "\u001b[1m32/32\u001b[0m \u001b[32m━━━━━━━━━━━━━━━━━━━━\u001b[0m\u001b[37m\u001b[0m \u001b[1m1s\u001b[0m 46ms/step - accuracy: 1.0000 - f1_score: 0.8000 - loss: 5.9365e-04 - precision: 1.0000 - recall: 1.0000 - val_accuracy: 0.0234 - val_f1_score: 0.0113 - val_loss: 12.2398 - val_precision: 0.0235 - val_recall: 0.0234\n",
      "Epoch 80/100\n",
      "\u001b[1m32/32\u001b[0m \u001b[32m━━━━━━━━━━━━━━━━━━━━\u001b[0m\u001b[37m\u001b[0m \u001b[1m1s\u001b[0m 46ms/step - accuracy: 1.0000 - f1_score: 0.8000 - loss: 5.5614e-04 - precision: 1.0000 - recall: 1.0000 - val_accuracy: 0.0234 - val_f1_score: 0.0113 - val_loss: 12.3352 - val_precision: 0.0235 - val_recall: 0.0234\n",
      "Epoch 81/100\n",
      "\u001b[1m32/32\u001b[0m \u001b[32m━━━━━━━━━━━━━━━━━━━━\u001b[0m\u001b[37m\u001b[0m \u001b[1m1s\u001b[0m 46ms/step - accuracy: 1.0000 - f1_score: 0.8000 - loss: 9.5378e-04 - precision: 1.0000 - recall: 1.0000 - val_accuracy: 0.0234 - val_f1_score: 0.0114 - val_loss: 12.3014 - val_precision: 0.0236 - val_recall: 0.0234\n",
      "Epoch 82/100\n",
      "\u001b[1m32/32\u001b[0m \u001b[32m━━━━━━━━━━━━━━━━━━━━\u001b[0m\u001b[37m\u001b[0m \u001b[1m1s\u001b[0m 47ms/step - accuracy: 1.0000 - f1_score: 0.8000 - loss: 1.8641e-04 - precision: 1.0000 - recall: 1.0000 - val_accuracy: 0.0234 - val_f1_score: 0.0114 - val_loss: 12.3850 - val_precision: 0.0236 - val_recall: 0.0234\n",
      "Epoch 83/100\n",
      "\u001b[1m32/32\u001b[0m \u001b[32m━━━━━━━━━━━━━━━━━━━━\u001b[0m\u001b[37m\u001b[0m \u001b[1m1s\u001b[0m 47ms/step - accuracy: 1.0000 - f1_score: 0.8000 - loss: 3.5508e-04 - precision: 1.0000 - recall: 1.0000 - val_accuracy: 0.0234 - val_f1_score: 0.0114 - val_loss: 12.4901 - val_precision: 0.0236 - val_recall: 0.0234\n",
      "Epoch 84/100\n",
      "\u001b[1m32/32\u001b[0m \u001b[32m━━━━━━━━━━━━━━━━━━━━\u001b[0m\u001b[37m\u001b[0m \u001b[1m2s\u001b[0m 47ms/step - accuracy: 1.0000 - f1_score: 0.8000 - loss: 2.8916e-04 - precision: 1.0000 - recall: 1.0000 - val_accuracy: 0.0234 - val_f1_score: 0.0113 - val_loss: 12.6748 - val_precision: 0.0235 - val_recall: 0.0234\n",
      "Epoch 85/100\n",
      "\u001b[1m32/32\u001b[0m \u001b[32m━━━━━━━━━━━━━━━━━━━━\u001b[0m\u001b[37m\u001b[0m \u001b[1m2s\u001b[0m 47ms/step - accuracy: 1.0000 - f1_score: 0.8000 - loss: 2.2486e-04 - precision: 1.0000 - recall: 1.0000 - val_accuracy: 0.0234 - val_f1_score: 0.0113 - val_loss: 12.6914 - val_precision: 0.0235 - val_recall: 0.0234\n",
      "Epoch 86/100\n",
      "\u001b[1m32/32\u001b[0m \u001b[32m━━━━━━━━━━━━━━━━━━━━\u001b[0m\u001b[37m\u001b[0m \u001b[1m1s\u001b[0m 47ms/step - accuracy: 1.0000 - f1_score: 0.8000 - loss: 3.0338e-04 - precision: 1.0000 - recall: 1.0000 - val_accuracy: 0.0234 - val_f1_score: 0.0113 - val_loss: 12.7370 - val_precision: 0.0235 - val_recall: 0.0234\n",
      "Epoch 87/100\n",
      "\u001b[1m32/32\u001b[0m \u001b[32m━━━━━━━━━━━━━━━━━━━━\u001b[0m\u001b[37m\u001b[0m \u001b[1m1s\u001b[0m 46ms/step - accuracy: 1.0000 - f1_score: 0.8000 - loss: 5.7287e-04 - precision: 1.0000 - recall: 1.0000 - val_accuracy: 0.0234 - val_f1_score: 0.0113 - val_loss: 12.7356 - val_precision: 0.0236 - val_recall: 0.0234\n",
      "Epoch 88/100\n",
      "\u001b[1m32/32\u001b[0m \u001b[32m━━━━━━━━━━━━━━━━━━━━\u001b[0m\u001b[37m\u001b[0m \u001b[1m1s\u001b[0m 46ms/step - accuracy: 1.0000 - f1_score: 0.8000 - loss: 1.8499e-04 - precision: 1.0000 - recall: 1.0000 - val_accuracy: 0.0234 - val_f1_score: 0.0115 - val_loss: 12.7422 - val_precision: 0.0236 - val_recall: 0.0234\n",
      "Epoch 89/100\n",
      "\u001b[1m32/32\u001b[0m \u001b[32m━━━━━━━━━━━━━━━━━━━━\u001b[0m\u001b[37m\u001b[0m \u001b[1m2s\u001b[0m 47ms/step - accuracy: 1.0000 - f1_score: 0.8000 - loss: 2.9206e-04 - precision: 1.0000 - recall: 1.0000 - val_accuracy: 0.0234 - val_f1_score: 0.0114 - val_loss: 12.8294 - val_precision: 0.0236 - val_recall: 0.0234\n",
      "Epoch 90/100\n",
      "\u001b[1m32/32\u001b[0m \u001b[32m━━━━━━━━━━━━━━━━━━━━\u001b[0m\u001b[37m\u001b[0m \u001b[1m1s\u001b[0m 47ms/step - accuracy: 1.0000 - f1_score: 0.8000 - loss: 1.8013e-04 - precision: 1.0000 - recall: 1.0000 - val_accuracy: 0.0234 - val_f1_score: 0.0114 - val_loss: 12.8959 - val_precision: 0.0235 - val_recall: 0.0234\n",
      "Epoch 91/100\n",
      "\u001b[1m32/32\u001b[0m \u001b[32m━━━━━━━━━━━━━━━━━━━━\u001b[0m\u001b[37m\u001b[0m \u001b[1m2s\u001b[0m 48ms/step - accuracy: 1.0000 - f1_score: 0.8000 - loss: 1.6343e-04 - precision: 1.0000 - recall: 1.0000 - val_accuracy: 0.0234 - val_f1_score: 0.0114 - val_loss: 12.9422 - val_precision: 0.0235 - val_recall: 0.0234\n",
      "Epoch 92/100\n",
      "\u001b[1m32/32\u001b[0m \u001b[32m━━━━━━━━━━━━━━━━━━━━\u001b[0m\u001b[37m\u001b[0m \u001b[1m1s\u001b[0m 46ms/step - accuracy: 1.0000 - f1_score: 0.8000 - loss: 2.2865e-04 - precision: 1.0000 - recall: 1.0000 - val_accuracy: 0.0234 - val_f1_score: 0.0114 - val_loss: 12.9677 - val_precision: 0.0235 - val_recall: 0.0234\n",
      "Epoch 93/100\n",
      "\u001b[1m32/32\u001b[0m \u001b[32m━━━━━━━━━━━━━━━━━━━━\u001b[0m\u001b[37m\u001b[0m \u001b[1m1s\u001b[0m 47ms/step - accuracy: 1.0000 - f1_score: 0.8000 - loss: 1.2029e-04 - precision: 1.0000 - recall: 1.0000 - val_accuracy: 0.0234 - val_f1_score: 0.0113 - val_loss: 12.9918 - val_precision: 0.0234 - val_recall: 0.0234\n",
      "Epoch 94/100\n",
      "\u001b[1m32/32\u001b[0m \u001b[32m━━━━━━━━━━━━━━━━━━━━\u001b[0m\u001b[37m\u001b[0m \u001b[1m1s\u001b[0m 46ms/step - accuracy: 1.0000 - f1_score: 0.8000 - loss: 1.0220e-04 - precision: 1.0000 - recall: 1.0000 - val_accuracy: 0.0234 - val_f1_score: 0.0113 - val_loss: 13.0210 - val_precision: 0.0235 - val_recall: 0.0234\n",
      "Epoch 95/100\n",
      "\u001b[1m32/32\u001b[0m \u001b[32m━━━━━━━━━━━━━━━━━━━━\u001b[0m\u001b[37m\u001b[0m \u001b[1m1s\u001b[0m 46ms/step - accuracy: 1.0000 - f1_score: 0.8000 - loss: 1.7072e-04 - precision: 1.0000 - recall: 1.0000 - val_accuracy: 0.0234 - val_f1_score: 0.0113 - val_loss: 13.0356 - val_precision: 0.0235 - val_recall: 0.0234\n",
      "Epoch 96/100\n",
      "\u001b[1m32/32\u001b[0m \u001b[32m━━━━━━━━━━━━━━━━━━━━\u001b[0m\u001b[37m\u001b[0m \u001b[1m2s\u001b[0m 50ms/step - accuracy: 1.0000 - f1_score: 0.8000 - loss: 2.0684e-04 - precision: 1.0000 - recall: 1.0000 - val_accuracy: 0.0234 - val_f1_score: 0.0113 - val_loss: 13.0596 - val_precision: 0.0235 - val_recall: 0.0234\n",
      "Epoch 97/100\n",
      "\u001b[1m32/32\u001b[0m \u001b[32m━━━━━━━━━━━━━━━━━━━━\u001b[0m\u001b[37m\u001b[0m \u001b[1m2s\u001b[0m 48ms/step - accuracy: 1.0000 - f1_score: 0.8000 - loss: 1.4140e-04 - precision: 1.0000 - recall: 1.0000 - val_accuracy: 0.0234 - val_f1_score: 0.0113 - val_loss: 13.1331 - val_precision: 0.0235 - val_recall: 0.0234\n",
      "Epoch 98/100\n",
      "\u001b[1m32/32\u001b[0m \u001b[32m━━━━━━━━━━━━━━━━━━━━\u001b[0m\u001b[37m\u001b[0m \u001b[1m2s\u001b[0m 47ms/step - accuracy: 1.0000 - f1_score: 0.8000 - loss: 3.5256e-04 - precision: 1.0000 - recall: 1.0000 - val_accuracy: 0.0234 - val_f1_score: 0.0115 - val_loss: 13.1857 - val_precision: 0.0235 - val_recall: 0.0234\n",
      "Epoch 99/100\n",
      "\u001b[1m32/32\u001b[0m \u001b[32m━━━━━━━━━━━━━━━━━━━━\u001b[0m\u001b[37m\u001b[0m \u001b[1m2s\u001b[0m 51ms/step - accuracy: 1.0000 - f1_score: 0.8000 - loss: 1.4491e-04 - precision: 1.0000 - recall: 1.0000 - val_accuracy: 0.0234 - val_f1_score: 0.0115 - val_loss: 13.2225 - val_precision: 0.0236 - val_recall: 0.0234\n",
      "Epoch 100/100\n",
      "\u001b[1m32/32\u001b[0m \u001b[32m━━━━━━━━━━━━━━━━━━━━\u001b[0m\u001b[37m\u001b[0m \u001b[1m2s\u001b[0m 52ms/step - accuracy: 1.0000 - f1_score: 0.8000 - loss: 1.1019e-04 - precision: 1.0000 - recall: 1.0000 - val_accuracy: 0.0234 - val_f1_score: 0.0114 - val_loss: 13.2671 - val_precision: 0.0235 - val_recall: 0.0234\n"
     ]
    }
   ],
   "source": [
    "history = model.fit(\n",
    "    X_train_final, y_train,\n",
    "    validation_split=0.2,\n",
    "    epochs=100,\n",
    "    batch_size=32\n",
    ")\n"
   ]
  },
  {
   "cell_type": "code",
   "execution_count": 20,
   "id": "2ef54410",
   "metadata": {},
   "outputs": [
    {
     "name": "stdout",
     "output_type": "stream",
     "text": [
      "\u001b[1m4/4\u001b[0m \u001b[32m━━━━━━━━━━━━━━━━━━━━\u001b[0m\u001b[37m\u001b[0m \u001b[1m0s\u001b[0m 14ms/step - accuracy: 0.5633 - f1_score: 0.3730 - loss: 4.4817 - precision: 0.5633 - recall: 0.5633 \n",
      "Test accuracy: 0.5932\n"
     ]
    }
   ],
   "source": [
    "test_loss, test_acc, *metrics = model.evaluate(X_test_final, y_test)\n",
    "print(f\"Test accuracy: {test_acc:.4f}\")"
   ]
  },
  {
   "cell_type": "code",
   "execution_count": 21,
   "id": "ce4d89a3",
   "metadata": {},
   "outputs": [
    {
     "data": {
      "image/png": "[encoded data removed]",
      "text/plain": [
       "<Figure size 1200x500 with 2 Axes>"
      ]
     },
     "metadata": {},
     "output_type": "display_data"
    }
   ],
   "source": [
    "import matplotlib.pyplot as plt\n",
    "\n",
    "# === Plot training history ===\n",
    "plt.figure(figsize=(12, 5))\n",
    "\n",
    "# Accuracy plot\n",
    "plt.subplot(1, 2, 1)\n",
    "plt.plot(history.history['accuracy'], label='Train Accuracy')\n",
    "plt.plot(history.history['val_accuracy'], label='Val Accuracy')\n",
    "plt.title(\"Model Accuracy\")\n",
    "plt.xlabel(\"Epoch\")\n",
    "plt.ylabel(\"Accuracy\")\n",
    "plt.legend()\n",
    "plt.grid(True)\n",
    "\n",
    "# Loss plot\n",
    "plt.subplot(1, 2, 2)\n",
    "plt.plot(history.history['loss'], label='Train Loss')\n",
    "plt.plot(history.history['val_loss'], label='Val Loss')\n",
    "plt.title(\"Model Loss\")\n",
    "plt.xlabel(\"Epoch\")\n",
    "plt.ylabel(\"Loss\")\n",
    "plt.legend()\n",
    "plt.grid(True)\n",
    "\n",
    "plt.tight_layout()\n",
    "plt.show()"
   ]
  },
  {
   "cell_type": "code",
   "execution_count": 22,
   "id": "e857a13d",
   "metadata": {},
   "outputs": [
    {
     "name": "stdout",
     "output_type": "stream",
     "text": [
      "\u001b[1m4/4\u001b[0m \u001b[32m━━━━━━━━━━━━━━━━━━━━\u001b[0m\u001b[37m\u001b[0m \u001b[1m0s\u001b[0m 80ms/step\n"
     ]
    }
   ],
   "source": [
    "y_pred = model.predict(X_test_final)\n",
    "y_pred_classes = np.argmax(y_pred, axis=1)\n",
    "y_true_classes = np.argmax(y_test, axis=1)\n"
   ]
  },
  {
   "cell_type": "code",
   "execution_count": 23,
   "id": "c57f58aa",
   "metadata": {},
   "outputs": [
    {
     "data": {
      "image/png": "[encoded data removed]",
      "text/plain": [
       "<Figure size 600x500 with 2 Axes>"
      ]
     },
     "metadata": {},
     "output_type": "display_data"
    }
   ],
   "source": [
    "from sklearn.metrics import confusion_matrix, ConfusionMatrixDisplay\n",
    "import seaborn as sns\n",
    "\n",
    "# Compute confusion matrix\n",
    "cm = confusion_matrix(y_true_classes, y_pred_classes)\n",
    "\n",
    "# Plot using seaborn heatmap\n",
    "plt.figure(figsize=(6,5))\n",
    "sns.heatmap(cm, annot=True, fmt='d', cmap='Blues')\n",
    "plt.title('Confusion Matrix')\n",
    "plt.xlabel('Predicted Label')\n",
    "plt.ylabel('True Label')\n",
    "plt.show()"
   ]
  },
  {
   "cell_type": "code",
   "execution_count": 24,
   "id": "2f18cd96",
   "metadata": {},
   "outputs": [
    {
     "name": "stdout",
     "output_type": "stream",
     "text": [
      "Note: you may need to restart the kernel to use updated packages.\n",
      "Python executable: /Users/gemwincanete/Thesis /.venv/bin/python\n",
      "First sys.path entries:\n",
      "/opt/homebrew/Cellar/python@3.10/3.10.17/Frameworks/Python.framework/Versions/3.10/lib/python310.zip\n",
      "/opt/homebrew/Cellar/python@3.10/3.10.17/Frameworks/Python.framework/Versions/3.10/lib/python3.10\n",
      "/opt/homebrew/Cellar/python@3.10/3.10.17/Frameworks/Python.framework/Versions/3.10/lib/python3.10/lib-dynload\n",
      "\n",
      "/Users/gemwincanete/Thesis /.venv/lib/python3.10/site-packages\n"
     ]
    },
    {
     "name": "stderr",
     "output_type": "stream",
     "text": [
      "WARNING: All log messages before absl::InitializeLog() is called are written to STDERR\n",
      "I0000 00:00:1757059242.017336  295070 devices.cc:76] Number of eligible GPUs (core count >= 8, compute capability >= 0.0): 0 (Note: TensorFlow was not compiled with CUDA or ROCm support)\n",
      "WARNING: All log messages before absl::InitializeLog() is called are written to STDERR\n",
      "I0000 00:00:1757059242.017930  295070 single_machine.cc:374] Starting new session\n",
      "I0000 00:00:1757059242.321128  295070 devices.cc:76] Number of eligible GPUs (core count >= 8, compute capability >= 0.0): 0 (Note: TensorFlow was not compiled with CUDA or ROCm support)\n",
      "I0000 00:00:1757059242.321192  295070 single_machine.cc:374] Starting new session\n",
      "I0000 00:00:1757059242.504889  295070 mlir_graph_optimization_pass.cc:425] MLIR V1 optimization pass is not enabled\n",
      "rewriter <function rewrite_constant_fold at 0x17677dea0>: exception `np.cast` was removed in the NumPy 2.0 release. Use `np.asarray(arr, dtype=dtype)` instead.\n",
      "rewriter <function rewrite_constant_fold at 0x17677dea0>: exception `np.cast` was removed in the NumPy 2.0 release. Use `np.asarray(arr, dtype=dtype)` instead.\n",
      "rewriter <function rewrite_constant_fold at 0x17677dea0>: exception `np.cast` was removed in the NumPy 2.0 release. Use `np.asarray(arr, dtype=dtype)` instead.\n",
      "rewriter <function rewrite_constant_fold at 0x17677dea0>: exception `np.cast` was removed in the NumPy 2.0 release. Use `np.asarray(arr, dtype=dtype)` instead.\n",
      "rewriter <function rewrite_constant_fold at 0x17677dea0>: exception `np.cast` was removed in the NumPy 2.0 release. Use `np.asarray(arr, dtype=dtype)` instead.\n",
      "rewriter <function rewrite_constant_fold at 0x17677dea0>: exception `np.cast` was removed in the NumPy 2.0 release. Use `np.asarray(arr, dtype=dtype)` instead.\n",
      "rewriter <function rewrite_constant_fold at 0x17677dea0>: exception `np.cast` was removed in the NumPy 2.0 release. Use `np.asarray(arr, dtype=dtype)` instead.\n",
      "rewriter <function rewrite_constant_fold at 0x17677dea0>: exception `np.cast` was removed in the NumPy 2.0 release. Use `np.asarray(arr, dtype=dtype)` instead.\n",
      "rewriter <function rewrite_constant_fold at 0x17677dea0>: exception `np.cast` was removed in the NumPy 2.0 release. Use `np.asarray(arr, dtype=dtype)` instead.\n"
     ]
    }
   ],
   "source": [
    "%pip install -q --disable-pip-version-check onnxruntime tf2onnx onnx\n",
    "\n",
    "import sys\n",
    "import tensorflow as tf\n",
    "\n",
    "# Verify we're installing into the active kernel\n",
    "print(\"Python executable:\", sys.executable)\n",
    "print(\"First sys.path entries:\")\n",
    "print(\"\\n\".join(sys.path[:5]))\n",
    "\n",
    "import tf2onnx\n",
    "import onnxruntime as rt\n",
    "\n",
    "output_path = '/Users/gemwincanete/Thesis /models/12.5s/aug_23_2025_bidirectional_lstm_model.onnx'\n",
    "\n",
    "model.output_names = ['output']\n",
    "\n",
    "input_signature = [tf.TensorSpec(model.inputs[0].shape, model.inputs[0].dtype, name='input')]\n",
    "model_proto, _ = tf2onnx.convert.from_keras(model, input_signature=input_signature, output_path=output_path)"
   ]
  },
  {
   "cell_type": "code",
   "execution_count": 25,
   "id": "9ee8b83e",
   "metadata": {},
   "outputs": [],
   "source": [
    "output_names = [n.name for n in model_proto.graph.output]"
   ]
  },
  {
   "cell_type": "code",
   "execution_count": 26,
   "id": "c8d0af04",
   "metadata": {},
   "outputs": [
    {
     "name": "stdout",
     "output_type": "stream",
     "text": [
      "Correct: 70, Wrong: 48, Total %: 0.5932203389830508\n"
     ]
    }
   ],
   "source": [
    "m = rt.InferenceSession(output_path)\n",
    "\n",
    "correct = 0\n",
    "wrong = 0\n",
    "\n",
    "for i in range(len(X_test_final)):\n",
    "  x = np.float32([X_test_final[i]])\n",
    "  onnx_pred = m.run(output_names, {\"input\": x})\n",
    "  if (np.argmax(onnx_pred[0]) == np.argmax(y_test[i])):\n",
    "    correct += 1\n",
    "  else:\n",
    "    wrong += 1\n",
    "\n",
    "print(f'Correct: {correct}, Wrong: {wrong}, Total %: {correct / len(X_test_final)}')\n"
   ]
  }
 ],
 "metadata": {
  "kernelspec": {
   "display_name": ".venv",
   "language": "python",
   "name": "python3"
  },
  "language_info": {
   "codemirror_mode": {
    "name": "ipython",
    "version": 3
   },
   "file_extension": ".py",
   "mimetype": "text/x-python",
   "name": "python",
   "nbconvert_exporter": "python",
   "pygments_lexer": "ipython3",
   "version": "3.10.17"
  }
 },
 "nbformat": 4,
 "nbformat_minor": 5
}
