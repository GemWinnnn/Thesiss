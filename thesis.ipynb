{
 "cells": [
  {
   "cell_type": "code",
   "execution_count": 1,
   "id": "9c6149a1",
   "metadata": {},
   "outputs": [
    {
     "name": "stdout",
     "output_type": "stream",
     "text": [
      "                   filename          label split\n",
      "0   184_1308073010307_A.npy  extra_systole  test\n",
      "1   275_1310990852160_B.npy  extra_systole  test\n",
      "2   140_1306519735121_D.npy  extra_systole  test\n",
      "3   213_1308245263936_D.npy  extra_systole  test\n",
      "4  134_1306428161797_C1.npy  extra_systole  test\n",
      "Classes: ['artifact', 'extra_heart_audio', 'extra_systole', 'murmur', 'normal']\n",
      "Loaded 1280 train and 118 test samples.\n",
      "Label mapping: {np.str_('artifact'): 0, np.str_('extra_heart_audio'): 1, np.str_('extra_systole'): 2, np.str_('murmur'): 3, np.str_('normal'): 4}\n",
      "Train set: (1280, 39, 196) (1280, 5)\n",
      "Test set: (118, 39, 196) (118, 5)\n",
      "Sample index 843\n",
      "MFCC shape: (39, 196)\n",
      "Label (one-hot): [0. 0. 0. 0. 1.]\n",
      "\n",
      "Sample index 315\n",
      "MFCC shape: (39, 196)\n",
      "Label (one-hot): [0. 1. 0. 0. 0.]\n",
      "\n",
      "Sample index 1255\n",
      "MFCC shape: (39, 196)\n",
      "Label (one-hot): [1. 0. 0. 0. 0.]\n",
      "\n",
      "Sample index 441\n",
      "MFCC shape: (39, 196)\n",
      "Label (one-hot): [0. 1. 0. 0. 0.]\n",
      "\n",
      "Sample index 1082\n",
      "MFCC shape: (39, 196)\n",
      "Label (one-hot): [1. 0. 0. 0. 0.]\n",
      "\n"
     ]
    }
   ],
   "source": [
    "import os\n",
    "import numpy as np\n",
    "import pandas as pd\n",
    "from sklearn.preprocessing import LabelEncoder, OneHotEncoder, StandardScaler\n",
    "import joblib\n",
    "import random\n",
    "\n",
    "# === Paths ===\n",
    "base_dir = \"/Users/gemwincanete/Thesis /datasets/mfccfeatures\"\n",
    "metadata_path = os.path.join(base_dir, \"metadata.csv\")\n",
    "\n",
    "# === Load metadata ===\n",
    "df = pd.read_csv(metadata_path)\n",
    "print(df.head())\n",
    "\n",
    "# === Classes from metadata ===\n",
    "class_names = sorted(df['label'].unique())\n",
    "print(\"Classes:\", class_names)\n",
    "\n",
    "X_train, y_train_labels = [], []\n",
    "X_test, y_test_labels = [], []\n",
    "\n",
    "# === Iterate rows using metadata ===\n",
    "for _, row in df.iterrows():\n",
    "    filename = row['filename']\n",
    "    label = row['label']\n",
    "    split = row['split']  # \"train\" or \"test\"\n",
    "\n",
    "    # NOTE: folder structure is /<label>/<split>/<filename>.npy\n",
    "    filepath = os.path.join(base_dir, label, split, filename)\n",
    "\n",
    "    if not os.path.exists(filepath):\n",
    "        print(\"Missing file:\", filepath)\n",
    "        continue\n",
    "\n",
    "    mfcc = np.load(filepath)\n",
    "\n",
    "    if split == \"train\":\n",
    "        X_train.append(mfcc)\n",
    "        y_train_labels.append(label)\n",
    "    elif split == \"test\":\n",
    "        X_test.append(mfcc)\n",
    "        y_test_labels.append(label)\n",
    "\n",
    "print(f\"Loaded {len(X_train)} train and {len(X_test)} test samples.\")\n",
    "\n",
    "# === Encode labels ===\n",
    "le = LabelEncoder()\n",
    "integer_labels_train = le.fit_transform(y_train_labels)\n",
    "integer_labels_test = le.transform(y_test_labels)\n",
    "\n",
    "label_mapping = dict(zip(le.classes_, range(len(le.classes_))))\n",
    "print(\"Label mapping:\", label_mapping)\n",
    "\n",
    "# === One-hot encode ===\n",
    "ohe = OneHotEncoder(sparse_output=False)\n",
    "y_train = ohe.fit_transform(integer_labels_train.reshape(-1, 1))\n",
    "y_test = ohe.transform(integer_labels_test.reshape(-1, 1))\n",
    "\n",
    "# === Pad sequences to max train length ===\n",
    "max_timesteps_train = max(mfcc.shape[1] for mfcc in X_train)\n",
    "X_train = np.array([\n",
    "    np.pad(mfcc, ((0, 0), (0, max_timesteps_train - mfcc.shape[1])), mode='constant')\n",
    "    for mfcc in X_train\n",
    "])\n",
    "X_test = np.array([\n",
    "    np.pad(mfcc, ((0, 0), (0, max_timesteps_train - mfcc.shape[1])), mode='constant')\n",
    "    for mfcc in X_test\n",
    "])\n",
    "\n",
    "# === Fit scaler ===\n",
    "all_train_frames = np.hstack(X_train)  # shape: (features, total_timesteps)\n",
    "scaler = StandardScaler().fit(all_train_frames.T)\n",
    "\n",
    "# Save scaler\n",
    "scaler_dir = \"/Users/gemwincanete/Thesis /models/scaler\"\n",
    "os.makedirs(scaler_dir, exist_ok=True)\n",
    "joblib.dump(scaler, os.path.join(scaler_dir, \"scaler.pkl\"))\n",
    "\n",
    "# Apply scaling\n",
    "X_train_scaled = np.array([scaler.transform(mfcc.T).T for mfcc in X_train])\n",
    "X_test_scaled = np.array([scaler.transform(mfcc.T).T for mfcc in X_test])\n",
    "\n",
    "# === Final sanity checks ===\n",
    "print(\"Train set:\", X_train_scaled.shape, y_train.shape)\n",
    "print(\"Test set:\", X_test_scaled.shape, y_test.shape)\n",
    "\n",
    "# Preview random samples\n",
    "rand_idx = random.sample(range(len(X_train_scaled)), min(5, len(X_train_scaled)))\n",
    "for i in rand_idx:\n",
    "    print(f\"Sample index {i}\")\n",
    "    print(\"MFCC shape:\", X_train_scaled[i].shape)\n",
    "    print(\"Label (one-hot):\", y_train[i])\n",
    "    print()\n"
   ]
  },
  {
   "cell_type": "markdown",
   "id": "cd140fea",
   "metadata": {},
   "source": [
    "Model Tensor flow"
   ]
  },
  {
   "cell_type": "code",
   "execution_count": 2,
   "id": "c8cd4fc0",
   "metadata": {},
   "outputs": [],
   "source": [
    "from tensorflow.keras.models import Sequential, Model\n",
    "from tensorflow.keras.layers import Input, LSTM, Dropout, Dense, Bidirectional\n",
    "from tensorflow.keras.losses import CategoricalCrossentropy\n",
    "from tensorflow.keras.metrics import Precision, Recall, F1Score\n",
    "from tensorflow.keras.callbacks import EarlyStopping, ModelCheckpoint\n",
    "\n",
    "import tensorflow as tf"
   ]
  },
  {
   "cell_type": "code",
   "execution_count": 3,
   "id": "1231fb12",
   "metadata": {},
   "outputs": [
    {
     "data": {
      "text/html": [
       "<pre style=\"white-space:pre;overflow-x:auto;line-height:normal;font-family:Menlo,'DejaVu Sans Mono',consolas,'Courier New',monospace\"><span style=\"font-weight: bold\">Model: \"sequential\"</span>\n",
       "</pre>\n"
      ],
      "text/plain": [
       "\u001b[1mModel: \"sequential\"\u001b[0m\n"
      ]
     },
     "metadata": {},
     "output_type": "display_data"
    },
    {
     "data": {
      "text/html": [
       "<pre style=\"white-space:pre;overflow-x:auto;line-height:normal;font-family:Menlo,'DejaVu Sans Mono',consolas,'Courier New',monospace\">┏━━━━━━━━━━━━━━━━━━━━━━━━━━━━━━━━━┳━━━━━━━━━━━━━━━━━━━━━━━━┳━━━━━━━━━━━━━━━┓\n",
       "┃<span style=\"font-weight: bold\"> Layer (type)                    </span>┃<span style=\"font-weight: bold\"> Output Shape           </span>┃<span style=\"font-weight: bold\">       Param # </span>┃\n",
       "┡━━━━━━━━━━━━━━━━━━━━━━━━━━━━━━━━━╇━━━━━━━━━━━━━━━━━━━━━━━━╇━━━━━━━━━━━━━━━┩\n",
       "│ bidirectional (<span style=\"color: #0087ff; text-decoration-color: #0087ff\">Bidirectional</span>)   │ (<span style=\"color: #00d7ff; text-decoration-color: #00d7ff\">None</span>, <span style=\"color: #00af00; text-decoration-color: #00af00\">196</span>, <span style=\"color: #00af00; text-decoration-color: #00af00\">128</span>)       │        <span style=\"color: #00af00; text-decoration-color: #00af00\">53,248</span> │\n",
       "├─────────────────────────────────┼────────────────────────┼───────────────┤\n",
       "│ dropout (<span style=\"color: #0087ff; text-decoration-color: #0087ff\">Dropout</span>)               │ (<span style=\"color: #00d7ff; text-decoration-color: #00d7ff\">None</span>, <span style=\"color: #00af00; text-decoration-color: #00af00\">196</span>, <span style=\"color: #00af00; text-decoration-color: #00af00\">128</span>)       │             <span style=\"color: #00af00; text-decoration-color: #00af00\">0</span> │\n",
       "├─────────────────────────────────┼────────────────────────┼───────────────┤\n",
       "│ bidirectional_1 (<span style=\"color: #0087ff; text-decoration-color: #0087ff\">Bidirectional</span>) │ (<span style=\"color: #00d7ff; text-decoration-color: #00d7ff\">None</span>, <span style=\"color: #00af00; text-decoration-color: #00af00\">64</span>)             │        <span style=\"color: #00af00; text-decoration-color: #00af00\">41,216</span> │\n",
       "├─────────────────────────────────┼────────────────────────┼───────────────┤\n",
       "│ dropout_1 (<span style=\"color: #0087ff; text-decoration-color: #0087ff\">Dropout</span>)             │ (<span style=\"color: #00d7ff; text-decoration-color: #00d7ff\">None</span>, <span style=\"color: #00af00; text-decoration-color: #00af00\">64</span>)             │             <span style=\"color: #00af00; text-decoration-color: #00af00\">0</span> │\n",
       "├─────────────────────────────────┼────────────────────────┼───────────────┤\n",
       "│ dense (<span style=\"color: #0087ff; text-decoration-color: #0087ff\">Dense</span>)                   │ (<span style=\"color: #00d7ff; text-decoration-color: #00d7ff\">None</span>, <span style=\"color: #00af00; text-decoration-color: #00af00\">64</span>)             │         <span style=\"color: #00af00; text-decoration-color: #00af00\">4,160</span> │\n",
       "├─────────────────────────────────┼────────────────────────┼───────────────┤\n",
       "│ dense_1 (<span style=\"color: #0087ff; text-decoration-color: #0087ff\">Dense</span>)                 │ (<span style=\"color: #00d7ff; text-decoration-color: #00d7ff\">None</span>, <span style=\"color: #00af00; text-decoration-color: #00af00\">5</span>)              │           <span style=\"color: #00af00; text-decoration-color: #00af00\">325</span> │\n",
       "└─────────────────────────────────┴────────────────────────┴───────────────┘\n",
       "</pre>\n"
      ],
      "text/plain": [
       "┏━━━━━━━━━━━━━━━━━━━━━━━━━━━━━━━━━┳━━━━━━━━━━━━━━━━━━━━━━━━┳━━━━━━━━━━━━━━━┓\n",
       "┃\u001b[1m \u001b[0m\u001b[1mLayer (type)                   \u001b[0m\u001b[1m \u001b[0m┃\u001b[1m \u001b[0m\u001b[1mOutput Shape          \u001b[0m\u001b[1m \u001b[0m┃\u001b[1m \u001b[0m\u001b[1m      Param #\u001b[0m\u001b[1m \u001b[0m┃\n",
       "┡━━━━━━━━━━━━━━━━━━━━━━━━━━━━━━━━━╇━━━━━━━━━━━━━━━━━━━━━━━━╇━━━━━━━━━━━━━━━┩\n",
       "│ bidirectional (\u001b[38;5;33mBidirectional\u001b[0m)   │ (\u001b[38;5;45mNone\u001b[0m, \u001b[38;5;34m196\u001b[0m, \u001b[38;5;34m128\u001b[0m)       │        \u001b[38;5;34m53,248\u001b[0m │\n",
       "├─────────────────────────────────┼────────────────────────┼───────────────┤\n",
       "│ dropout (\u001b[38;5;33mDropout\u001b[0m)               │ (\u001b[38;5;45mNone\u001b[0m, \u001b[38;5;34m196\u001b[0m, \u001b[38;5;34m128\u001b[0m)       │             \u001b[38;5;34m0\u001b[0m │\n",
       "├─────────────────────────────────┼────────────────────────┼───────────────┤\n",
       "│ bidirectional_1 (\u001b[38;5;33mBidirectional\u001b[0m) │ (\u001b[38;5;45mNone\u001b[0m, \u001b[38;5;34m64\u001b[0m)             │        \u001b[38;5;34m41,216\u001b[0m │\n",
       "├─────────────────────────────────┼────────────────────────┼───────────────┤\n",
       "│ dropout_1 (\u001b[38;5;33mDropout\u001b[0m)             │ (\u001b[38;5;45mNone\u001b[0m, \u001b[38;5;34m64\u001b[0m)             │             \u001b[38;5;34m0\u001b[0m │\n",
       "├─────────────────────────────────┼────────────────────────┼───────────────┤\n",
       "│ dense (\u001b[38;5;33mDense\u001b[0m)                   │ (\u001b[38;5;45mNone\u001b[0m, \u001b[38;5;34m64\u001b[0m)             │         \u001b[38;5;34m4,160\u001b[0m │\n",
       "├─────────────────────────────────┼────────────────────────┼───────────────┤\n",
       "│ dense_1 (\u001b[38;5;33mDense\u001b[0m)                 │ (\u001b[38;5;45mNone\u001b[0m, \u001b[38;5;34m5\u001b[0m)              │           \u001b[38;5;34m325\u001b[0m │\n",
       "└─────────────────────────────────┴────────────────────────┴───────────────┘\n"
      ]
     },
     "metadata": {},
     "output_type": "display_data"
    },
    {
     "data": {
      "text/html": [
       "<pre style=\"white-space:pre;overflow-x:auto;line-height:normal;font-family:Menlo,'DejaVu Sans Mono',consolas,'Courier New',monospace\"><span style=\"font-weight: bold\"> Total params: </span><span style=\"color: #00af00; text-decoration-color: #00af00\">98,949</span> (386.52 KB)\n",
       "</pre>\n"
      ],
      "text/plain": [
       "\u001b[1m Total params: \u001b[0m\u001b[38;5;34m98,949\u001b[0m (386.52 KB)\n"
      ]
     },
     "metadata": {},
     "output_type": "display_data"
    },
    {
     "data": {
      "text/html": [
       "<pre style=\"white-space:pre;overflow-x:auto;line-height:normal;font-family:Menlo,'DejaVu Sans Mono',consolas,'Courier New',monospace\"><span style=\"font-weight: bold\"> Trainable params: </span><span style=\"color: #00af00; text-decoration-color: #00af00\">98,949</span> (386.52 KB)\n",
       "</pre>\n"
      ],
      "text/plain": [
       "\u001b[1m Trainable params: \u001b[0m\u001b[38;5;34m98,949\u001b[0m (386.52 KB)\n"
      ]
     },
     "metadata": {},
     "output_type": "display_data"
    },
    {
     "data": {
      "text/html": [
       "<pre style=\"white-space:pre;overflow-x:auto;line-height:normal;font-family:Menlo,'DejaVu Sans Mono',consolas,'Courier New',monospace\"><span style=\"font-weight: bold\"> Non-trainable params: </span><span style=\"color: #00af00; text-decoration-color: #00af00\">0</span> (0.00 B)\n",
       "</pre>\n"
      ],
      "text/plain": [
       "\u001b[1m Non-trainable params: \u001b[0m\u001b[38;5;34m0\u001b[0m (0.00 B)\n"
      ]
     },
     "metadata": {},
     "output_type": "display_data"
    }
   ],
   "source": [
    "# Reshape to (samples, timesteps, features)\n",
    "X_train_final = np.array([mfcc.T for mfcc in X_train_scaled])\n",
    "X_test_final  = np.array([mfcc.T for mfcc in X_test_scaled])\n",
    "\n",
    "# Get dynamic input shape for LSTM\n",
    "input_shape = X_train_final[0].shape  # (timesteps, features)\n",
    "num_classes = y_train.shape[1]\n",
    "\n",
    "# Build model with dynamic input shape\n",
    "model = Sequential([\n",
    "    Input(shape=input_shape),\n",
    "    Bidirectional(LSTM(64, return_sequences=True)),\n",
    "    Dropout(0.3),\n",
    "    Bidirectional(LSTM(32)),\n",
    "    Dropout(0.3),\n",
    "    Dense(64, activation='relu'),\n",
    "    Dense(num_classes, activation='softmax')\n",
    "])\n",
    "\n",
    "model.compile(\n",
    "    optimizer='adam',\n",
    "    loss='categorical_crossentropy',\n",
    "    metrics=['accuracy', Precision(), Recall(), F1Score()]\n",
    ")\n",
    "\n",
    "model.summary()"
   ]
  },
  {
   "cell_type": "code",
   "execution_count": 4,
   "id": "0c7b9fb0",
   "metadata": {},
   "outputs": [
    {
     "data": {
      "text/plain": [
       "(196, 39)"
      ]
     },
     "execution_count": 4,
     "metadata": {},
     "output_type": "execute_result"
    }
   ],
   "source": [
    "input_shape"
   ]
  },
  {
   "cell_type": "code",
   "execution_count": 5,
   "id": "72424d4c",
   "metadata": {},
   "outputs": [
    {
     "name": "stdout",
     "output_type": "stream",
     "text": [
      "Epoch 1/100\n",
      "\u001b[1m32/32\u001b[0m \u001b[32m━━━━━━━━━━━━━━━━━━━━\u001b[0m\u001b[37m\u001b[0m \u001b[1m3s\u001b[0m 48ms/step - accuracy: 0.3559 - f1_score: 0.2771 - loss: 1.4001 - precision: 0.4441 - recall: 0.0252 - val_accuracy: 0.0156 - val_f1_score: 0.1600 - val_loss: 3.3853 - val_precision: 0.0000e+00 - val_recall: 0.0000e+00\n",
      "Epoch 2/100\n",
      "\u001b[1m32/32\u001b[0m \u001b[32m━━━━━━━━━━━━━━━━━━━━\u001b[0m\u001b[37m\u001b[0m \u001b[1m1s\u001b[0m 40ms/step - accuracy: 0.6593 - f1_score: 0.5205 - loss: 0.8224 - precision: 0.8506 - recall: 0.3772 - val_accuracy: 0.0195 - val_f1_score: 0.1538 - val_loss: 4.4872 - val_precision: 0.0162 - val_recall: 0.0117\n",
      "Epoch 3/100\n",
      "\u001b[1m32/32\u001b[0m \u001b[32m━━━━━━━━━━━━━━━━━━━━\u001b[0m\u001b[37m\u001b[0m \u001b[1m1s\u001b[0m 42ms/step - accuracy: 0.6992 - f1_score: 0.5627 - loss: 0.6700 - precision: 0.7624 - recall: 0.5915 - val_accuracy: 0.0156 - val_f1_score: 0.1600 - val_loss: 4.8750 - val_precision: 0.0192 - val_recall: 0.0156\n",
      "Epoch 4/100\n",
      "\u001b[1m32/32\u001b[0m \u001b[32m━━━━━━━━━━━━━━━━━━━━\u001b[0m\u001b[37m\u001b[0m \u001b[1m1s\u001b[0m 42ms/step - accuracy: 0.7732 - f1_score: 0.6204 - loss: 0.5354 - precision: 0.8061 - recall: 0.7359 - val_accuracy: 0.0156 - val_f1_score: 0.0762 - val_loss: 5.1137 - val_precision: 0.0196 - val_recall: 0.0156\n",
      "Epoch 5/100\n",
      "\u001b[1m32/32\u001b[0m \u001b[32m━━━━━━━━━━━━━━━━━━━━\u001b[0m\u001b[37m\u001b[0m \u001b[1m1s\u001b[0m 44ms/step - accuracy: 0.8442 - f1_score: 0.6740 - loss: 0.4274 - precision: 0.8699 - recall: 0.8175 - val_accuracy: 0.0117 - val_f1_score: 0.0171 - val_loss: 5.3358 - val_precision: 0.0160 - val_recall: 0.0117\n",
      "Epoch 6/100\n",
      "\u001b[1m32/32\u001b[0m \u001b[32m━━━━━━━━━━━━━━━━━━━━\u001b[0m\u001b[37m\u001b[0m \u001b[1m1s\u001b[0m 43ms/step - accuracy: 0.8957 - f1_score: 0.7178 - loss: 0.3125 - precision: 0.9059 - recall: 0.8797 - val_accuracy: 0.0195 - val_f1_score: 0.0241 - val_loss: 5.7339 - val_precision: 0.0267 - val_recall: 0.0195\n",
      "Epoch 7/100\n",
      "\u001b[1m32/32\u001b[0m \u001b[32m━━━━━━━━━━━━━━━━━━━━\u001b[0m\u001b[37m\u001b[0m \u001b[1m1s\u001b[0m 45ms/step - accuracy: 0.9053 - f1_score: 0.7260 - loss: 0.2864 - precision: 0.9182 - recall: 0.8912 - val_accuracy: 0.0195 - val_f1_score: 0.0177 - val_loss: 5.9212 - val_precision: 0.0231 - val_recall: 0.0195\n",
      "Epoch 8/100\n",
      "\u001b[1m32/32\u001b[0m \u001b[32m━━━━━━━━━━━━━━━━━━━━\u001b[0m\u001b[37m\u001b[0m \u001b[1m1s\u001b[0m 42ms/step - accuracy: 0.9273 - f1_score: 0.7434 - loss: 0.2202 - precision: 0.9341 - recall: 0.9165 - val_accuracy: 0.0156 - val_f1_score: 0.0134 - val_loss: 6.4717 - val_precision: 0.0175 - val_recall: 0.0156\n",
      "Epoch 9/100\n",
      "\u001b[1m32/32\u001b[0m \u001b[32m━━━━━━━━━━━━━━━━━━━━\u001b[0m\u001b[37m\u001b[0m \u001b[1m1s\u001b[0m 42ms/step - accuracy: 0.9380 - f1_score: 0.7510 - loss: 0.1752 - precision: 0.9413 - recall: 0.9320 - val_accuracy: 0.0195 - val_f1_score: 0.0154 - val_loss: 6.7658 - val_precision: 0.0211 - val_recall: 0.0195\n",
      "Epoch 10/100\n",
      "\u001b[1m32/32\u001b[0m \u001b[32m━━━━━━━━━━━━━━━━━━━━\u001b[0m\u001b[37m\u001b[0m \u001b[1m1s\u001b[0m 43ms/step - accuracy: 0.9449 - f1_score: 0.7573 - loss: 0.1433 - precision: 0.9478 - recall: 0.9437 - val_accuracy: 0.0195 - val_f1_score: 0.0132 - val_loss: 6.8149 - val_precision: 0.0212 - val_recall: 0.0195\n",
      "Epoch 11/100\n",
      "\u001b[1m32/32\u001b[0m \u001b[32m━━━━━━━━━━━━━━━━━━━━\u001b[0m\u001b[37m\u001b[0m \u001b[1m1s\u001b[0m 42ms/step - accuracy: 0.9553 - f1_score: 0.7652 - loss: 0.1297 - precision: 0.9597 - recall: 0.9539 - val_accuracy: 0.0195 - val_f1_score: 0.0126 - val_loss: 7.3605 - val_precision: 0.0205 - val_recall: 0.0195\n",
      "Epoch 12/100\n",
      "\u001b[1m32/32\u001b[0m \u001b[32m━━━━━━━━━━━━━━━━━━━━\u001b[0m\u001b[37m\u001b[0m \u001b[1m1s\u001b[0m 42ms/step - accuracy: 0.9688 - f1_score: 0.7757 - loss: 0.1060 - precision: 0.9700 - recall: 0.9666 - val_accuracy: 0.0195 - val_f1_score: 0.0124 - val_loss: 7.6187 - val_precision: 0.0207 - val_recall: 0.0195\n",
      "Epoch 13/100\n",
      "\u001b[1m32/32\u001b[0m \u001b[32m━━━━━━━━━━━━━━━━━━━━\u001b[0m\u001b[37m\u001b[0m \u001b[1m1s\u001b[0m 46ms/step - accuracy: 0.9737 - f1_score: 0.7797 - loss: 0.0866 - precision: 0.9743 - recall: 0.9703 - val_accuracy: 0.0195 - val_f1_score: 0.0100 - val_loss: 7.6866 - val_precision: 0.0206 - val_recall: 0.0195\n",
      "Epoch 14/100\n",
      "\u001b[1m32/32\u001b[0m \u001b[32m━━━━━━━━━━━━━━━━━━━━\u001b[0m\u001b[37m\u001b[0m \u001b[1m1s\u001b[0m 43ms/step - accuracy: 0.9818 - f1_score: 0.7856 - loss: 0.0545 - precision: 0.9824 - recall: 0.9813 - val_accuracy: 0.0195 - val_f1_score: 0.0112 - val_loss: 7.6725 - val_precision: 0.0163 - val_recall: 0.0156\n",
      "Epoch 15/100\n",
      "\u001b[1m32/32\u001b[0m \u001b[32m━━━━━━━━━━━━━━━━━━━━\u001b[0m\u001b[37m\u001b[0m \u001b[1m1s\u001b[0m 43ms/step - accuracy: 0.9916 - f1_score: 0.7934 - loss: 0.0392 - precision: 0.9923 - recall: 0.9887 - val_accuracy: 0.0156 - val_f1_score: 0.0086 - val_loss: 7.7689 - val_precision: 0.0161 - val_recall: 0.0156\n",
      "Epoch 16/100\n",
      "\u001b[1m32/32\u001b[0m \u001b[32m━━━━━━━━━━━━━━━━━━━━\u001b[0m\u001b[37m\u001b[0m \u001b[1m1s\u001b[0m 42ms/step - accuracy: 0.9837 - f1_score: 0.7874 - loss: 0.0503 - precision: 0.9837 - recall: 0.9824 - val_accuracy: 0.0195 - val_f1_score: 0.0102 - val_loss: 8.1374 - val_precision: 0.0202 - val_recall: 0.0195\n",
      "Epoch 17/100\n",
      "\u001b[1m32/32\u001b[0m \u001b[32m━━━━━━━━━━━━━━━━━━━━\u001b[0m\u001b[37m\u001b[0m \u001b[1m1s\u001b[0m 42ms/step - accuracy: 0.9894 - f1_score: 0.7918 - loss: 0.0414 - precision: 0.9894 - recall: 0.9894 - val_accuracy: 0.0195 - val_f1_score: 0.0093 - val_loss: 8.5175 - val_precision: 0.0202 - val_recall: 0.0195\n",
      "Epoch 18/100\n",
      "\u001b[1m32/32\u001b[0m \u001b[32m━━━━━━━━━━━━━━━━━━━━\u001b[0m\u001b[37m\u001b[0m \u001b[1m1s\u001b[0m 44ms/step - accuracy: 0.9916 - f1_score: 0.7934 - loss: 0.0393 - precision: 0.9925 - recall: 0.9916 - val_accuracy: 0.0195 - val_f1_score: 0.0109 - val_loss: 8.5531 - val_precision: 0.0201 - val_recall: 0.0195\n",
      "Epoch 19/100\n",
      "\u001b[1m32/32\u001b[0m \u001b[32m━━━━━━━━━━━━━━━━━━━━\u001b[0m\u001b[37m\u001b[0m \u001b[1m1s\u001b[0m 43ms/step - accuracy: 0.9948 - f1_score: 0.7960 - loss: 0.0232 - precision: 0.9948 - recall: 0.9948 - val_accuracy: 0.0195 - val_f1_score: 0.0106 - val_loss: 8.8062 - val_precision: 0.0201 - val_recall: 0.0195\n",
      "Epoch 20/100\n",
      "\u001b[1m32/32\u001b[0m \u001b[32m━━━━━━━━━━━━━━━━━━━━\u001b[0m\u001b[37m\u001b[0m \u001b[1m1s\u001b[0m 44ms/step - accuracy: 0.9982 - f1_score: 0.7986 - loss: 0.0123 - precision: 0.9982 - recall: 0.9982 - val_accuracy: 0.0195 - val_f1_score: 0.0110 - val_loss: 8.9217 - val_precision: 0.0199 - val_recall: 0.0195\n",
      "Epoch 21/100\n",
      "\u001b[1m32/32\u001b[0m \u001b[32m━━━━━━━━━━━━━━━━━━━━\u001b[0m\u001b[37m\u001b[0m \u001b[1m1s\u001b[0m 42ms/step - accuracy: 0.9991 - f1_score: 0.7993 - loss: 0.0086 - precision: 0.9991 - recall: 0.9991 - val_accuracy: 0.0156 - val_f1_score: 0.0089 - val_loss: 9.0180 - val_precision: 0.0159 - val_recall: 0.0156\n",
      "Epoch 22/100\n",
      "\u001b[1m32/32\u001b[0m \u001b[32m━━━━━━━━━━━━━━━━━━━━\u001b[0m\u001b[37m\u001b[0m \u001b[1m1s\u001b[0m 43ms/step - accuracy: 0.9976 - f1_score: 0.7982 - loss: 0.0106 - precision: 0.9976 - recall: 0.9976 - val_accuracy: 0.0156 - val_f1_score: 0.0088 - val_loss: 9.3064 - val_precision: 0.0161 - val_recall: 0.0156\n",
      "Epoch 23/100\n",
      "\u001b[1m32/32\u001b[0m \u001b[32m━━━━━━━━━━━━━━━━━━━━\u001b[0m\u001b[37m\u001b[0m \u001b[1m1s\u001b[0m 43ms/step - accuracy: 0.9987 - f1_score: 0.7990 - loss: 0.0079 - precision: 0.9987 - recall: 0.9987 - val_accuracy: 0.0195 - val_f1_score: 0.0107 - val_loss: 9.5457 - val_precision: 0.0202 - val_recall: 0.0195\n",
      "Epoch 24/100\n",
      "\u001b[1m32/32\u001b[0m \u001b[32m━━━━━━━━━━━━━━━━━━━━\u001b[0m\u001b[37m\u001b[0m \u001b[1m1s\u001b[0m 43ms/step - accuracy: 0.9993 - f1_score: 0.7994 - loss: 0.0071 - precision: 0.9997 - recall: 0.9993 - val_accuracy: 0.0195 - val_f1_score: 0.0102 - val_loss: 9.8683 - val_precision: 0.0201 - val_recall: 0.0195\n",
      "Epoch 25/100\n",
      "\u001b[1m32/32\u001b[0m \u001b[32m━━━━━━━━━━━━━━━━━━━━\u001b[0m\u001b[37m\u001b[0m \u001b[1m1s\u001b[0m 44ms/step - accuracy: 0.9976 - f1_score: 0.7982 - loss: 0.0073 - precision: 0.9976 - recall: 0.9976 - val_accuracy: 0.0195 - val_f1_score: 0.0110 - val_loss: 10.2559 - val_precision: 0.0199 - val_recall: 0.0195\n",
      "Epoch 26/100\n",
      "\u001b[1m32/32\u001b[0m \u001b[32m━━━━━━━━━━━━━━━━━━━━\u001b[0m\u001b[37m\u001b[0m \u001b[1m1s\u001b[0m 44ms/step - accuracy: 0.9920 - f1_score: 0.7936 - loss: 0.0351 - precision: 0.9920 - recall: 0.9915 - val_accuracy: 0.0039 - val_f1_score: 0.0020 - val_loss: 9.1953 - val_precision: 0.0040 - val_recall: 0.0039\n",
      "Epoch 27/100\n",
      "\u001b[1m32/32\u001b[0m \u001b[32m━━━━━━━━━━━━━━━━━━━━\u001b[0m\u001b[37m\u001b[0m \u001b[1m1s\u001b[0m 43ms/step - accuracy: 0.9749 - f1_score: 0.7804 - loss: 0.1232 - precision: 0.9754 - recall: 0.9749 - val_accuracy: 0.0156 - val_f1_score: 0.0091 - val_loss: 8.6081 - val_precision: 0.0159 - val_recall: 0.0156\n",
      "Epoch 28/100\n",
      "\u001b[1m32/32\u001b[0m \u001b[32m━━━━━━━━━━━━━━━━━━━━\u001b[0m\u001b[37m\u001b[0m \u001b[1m1s\u001b[0m 44ms/step - accuracy: 0.9965 - f1_score: 0.7974 - loss: 0.0181 - precision: 0.9965 - recall: 0.9963 - val_accuracy: 0.0195 - val_f1_score: 0.0104 - val_loss: 8.5789 - val_precision: 0.0200 - val_recall: 0.0195\n",
      "Epoch 29/100\n",
      "\u001b[1m32/32\u001b[0m \u001b[32m━━━━━━━━━━━━━━━━━━━━\u001b[0m\u001b[37m\u001b[0m \u001b[1m1s\u001b[0m 44ms/step - accuracy: 0.9943 - f1_score: 0.7949 - loss: 0.0088 - precision: 0.9943 - recall: 0.9943 - val_accuracy: 0.0195 - val_f1_score: 0.0098 - val_loss: 9.2120 - val_precision: 0.0202 - val_recall: 0.0195\n",
      "Epoch 30/100\n",
      "\u001b[1m32/32\u001b[0m \u001b[32m━━━━━━━━━━━━━━━━━━━━\u001b[0m\u001b[37m\u001b[0m \u001b[1m1s\u001b[0m 44ms/step - accuracy: 0.9981 - f1_score: 0.7985 - loss: 0.0058 - precision: 0.9981 - recall: 0.9981 - val_accuracy: 0.0195 - val_f1_score: 0.0099 - val_loss: 9.3261 - val_precision: 0.0203 - val_recall: 0.0195\n",
      "Epoch 31/100\n",
      "\u001b[1m32/32\u001b[0m \u001b[32m━━━━━━━━━━━━━━━━━━━━\u001b[0m\u001b[37m\u001b[0m \u001b[1m1s\u001b[0m 44ms/step - accuracy: 0.9993 - f1_score: 0.7994 - loss: 0.0055 - precision: 0.9993 - recall: 0.9993 - val_accuracy: 0.0195 - val_f1_score: 0.0100 - val_loss: 9.5738 - val_precision: 0.0198 - val_recall: 0.0195\n",
      "Epoch 32/100\n",
      "\u001b[1m32/32\u001b[0m \u001b[32m━━━━━━━━━━━━━━━━━━━━\u001b[0m\u001b[37m\u001b[0m \u001b[1m1s\u001b[0m 44ms/step - accuracy: 0.9938 - f1_score: 0.7951 - loss: 0.0265 - precision: 0.9938 - recall: 0.9938 - val_accuracy: 0.0195 - val_f1_score: 0.0098 - val_loss: 9.5225 - val_precision: 0.0198 - val_recall: 0.0195\n",
      "Epoch 33/100\n",
      "\u001b[1m32/32\u001b[0m \u001b[32m━━━━━━━━━━━━━━━━━━━━\u001b[0m\u001b[37m\u001b[0m \u001b[1m1s\u001b[0m 44ms/step - accuracy: 0.9945 - f1_score: 0.7957 - loss: 0.0218 - precision: 0.9945 - recall: 0.9945 - val_accuracy: 0.0156 - val_f1_score: 0.0080 - val_loss: 9.2542 - val_precision: 0.0162 - val_recall: 0.0156\n",
      "Epoch 34/100\n",
      "\u001b[1m32/32\u001b[0m \u001b[32m━━━━━━━━━━━━━━━━━━━━\u001b[0m\u001b[37m\u001b[0m \u001b[1m1s\u001b[0m 45ms/step - accuracy: 0.9934 - f1_score: 0.7948 - loss: 0.0205 - precision: 0.9943 - recall: 0.9934 - val_accuracy: 0.0195 - val_f1_score: 0.0100 - val_loss: 9.5121 - val_precision: 0.0204 - val_recall: 0.0195\n",
      "Epoch 35/100\n",
      "\u001b[1m32/32\u001b[0m \u001b[32m━━━━━━━━━━━━━━━━━━━━\u001b[0m\u001b[37m\u001b[0m \u001b[1m1s\u001b[0m 47ms/step - accuracy: 0.9943 - f1_score: 0.7958 - loss: 0.0137 - precision: 0.9943 - recall: 0.9943 - val_accuracy: 0.0195 - val_f1_score: 0.0106 - val_loss: 9.6144 - val_precision: 0.0198 - val_recall: 0.0195\n",
      "Epoch 36/100\n",
      "\u001b[1m32/32\u001b[0m \u001b[32m━━━━━━━━━━━━━━━━━━━━\u001b[0m\u001b[37m\u001b[0m \u001b[1m1s\u001b[0m 45ms/step - accuracy: 0.9957 - f1_score: 0.7965 - loss: 0.0118 - precision: 0.9957 - recall: 0.9957 - val_accuracy: 0.0195 - val_f1_score: 0.0112 - val_loss: 9.6740 - val_precision: 0.0201 - val_recall: 0.0195\n",
      "Epoch 37/100\n",
      "\u001b[1m32/32\u001b[0m \u001b[32m━━━━━━━━━━━━━━━━━━━━\u001b[0m\u001b[37m\u001b[0m \u001b[1m1s\u001b[0m 45ms/step - accuracy: 0.9984 - f1_score: 0.7987 - loss: 0.0123 - precision: 0.9984 - recall: 0.9984 - val_accuracy: 0.0117 - val_f1_score: 0.0067 - val_loss: 9.7584 - val_precision: 0.0119 - val_recall: 0.0117\n",
      "Epoch 38/100\n",
      "\u001b[1m32/32\u001b[0m \u001b[32m━━━━━━━━━━━━━━━━━━━━\u001b[0m\u001b[37m\u001b[0m \u001b[1m2s\u001b[0m 47ms/step - accuracy: 0.9896 - f1_score: 0.7916 - loss: 0.0407 - precision: 0.9896 - recall: 0.9896 - val_accuracy: 0.0195 - val_f1_score: 0.0118 - val_loss: 9.6986 - val_precision: 0.0200 - val_recall: 0.0195\n",
      "Epoch 39/100\n",
      "\u001b[1m32/32\u001b[0m \u001b[32m━━━━━━━━━━━━━━━━━━━━\u001b[0m\u001b[37m\u001b[0m \u001b[1m1s\u001b[0m 44ms/step - accuracy: 0.9981 - f1_score: 0.7985 - loss: 0.0107 - precision: 0.9981 - recall: 0.9981 - val_accuracy: 0.0195 - val_f1_score: 0.0109 - val_loss: 10.1794 - val_precision: 0.0201 - val_recall: 0.0195\n",
      "Epoch 40/100\n",
      "\u001b[1m32/32\u001b[0m \u001b[32m━━━━━━━━━━━━━━━━━━━━\u001b[0m\u001b[37m\u001b[0m \u001b[1m1s\u001b[0m 46ms/step - accuracy: 0.9971 - f1_score: 0.7977 - loss: 0.0075 - precision: 0.9986 - recall: 0.9971 - val_accuracy: 0.0195 - val_f1_score: 0.0110 - val_loss: 10.1143 - val_precision: 0.0163 - val_recall: 0.0156\n",
      "Epoch 41/100\n",
      "\u001b[1m32/32\u001b[0m \u001b[32m━━━━━━━━━━━━━━━━━━━━\u001b[0m\u001b[37m\u001b[0m \u001b[1m1s\u001b[0m 45ms/step - accuracy: 0.9992 - f1_score: 0.7994 - loss: 0.0031 - precision: 0.9994 - recall: 0.9992 - val_accuracy: 0.0195 - val_f1_score: 0.0108 - val_loss: 10.3912 - val_precision: 0.0202 - val_recall: 0.0195\n",
      "Epoch 42/100\n",
      "\u001b[1m32/32\u001b[0m \u001b[32m━━━━━━━━━━━━━━━━━━━━\u001b[0m\u001b[37m\u001b[0m \u001b[1m1s\u001b[0m 44ms/step - accuracy: 1.0000 - f1_score: 0.8000 - loss: 0.0044 - precision: 1.0000 - recall: 1.0000 - val_accuracy: 0.0195 - val_f1_score: 0.0106 - val_loss: 10.4340 - val_precision: 0.0203 - val_recall: 0.0195\n",
      "Epoch 43/100\n",
      "\u001b[1m32/32\u001b[0m \u001b[32m━━━━━━━━━━━━━━━━━━━━\u001b[0m\u001b[37m\u001b[0m \u001b[1m1s\u001b[0m 44ms/step - accuracy: 1.0000 - f1_score: 0.8000 - loss: 0.0016 - precision: 1.0000 - recall: 1.0000 - val_accuracy: 0.0195 - val_f1_score: 0.0104 - val_loss: 10.4395 - val_precision: 0.0202 - val_recall: 0.0195\n",
      "Epoch 44/100\n",
      "\u001b[1m32/32\u001b[0m \u001b[32m━━━━━━━━━━━━━━━━━━━━\u001b[0m\u001b[37m\u001b[0m \u001b[1m1s\u001b[0m 43ms/step - accuracy: 0.9909 - f1_score: 0.7928 - loss: 0.0333 - precision: 0.9909 - recall: 0.9909 - val_accuracy: 0.0156 - val_f1_score: 0.0072 - val_loss: 10.2530 - val_precision: 0.0159 - val_recall: 0.0156\n",
      "Epoch 45/100\n",
      "\u001b[1m32/32\u001b[0m \u001b[32m━━━━━━━━━━━━━━━━━━━━\u001b[0m\u001b[37m\u001b[0m \u001b[1m1s\u001b[0m 45ms/step - accuracy: 0.9850 - f1_score: 0.7884 - loss: 0.0463 - precision: 0.9857 - recall: 0.9849 - val_accuracy: 0.0195 - val_f1_score: 0.0136 - val_loss: 9.9674 - val_precision: 0.0198 - val_recall: 0.0195\n",
      "Epoch 46/100\n",
      "\u001b[1m32/32\u001b[0m \u001b[32m━━━━━━━━━━━━━━━━━━━━\u001b[0m\u001b[37m\u001b[0m \u001b[1m1s\u001b[0m 44ms/step - accuracy: 0.9757 - f1_score: 0.7815 - loss: 0.0514 - precision: 0.9757 - recall: 0.9745 - val_accuracy: 0.0195 - val_f1_score: 0.0128 - val_loss: 10.1643 - val_precision: 0.0198 - val_recall: 0.0195\n",
      "Epoch 47/100\n",
      "\u001b[1m32/32\u001b[0m \u001b[32m━━━━━━━━━━━━━━━━━━━━\u001b[0m\u001b[37m\u001b[0m \u001b[1m2s\u001b[0m 52ms/step - accuracy: 0.9997 - f1_score: 0.7998 - loss: 0.0084 - precision: 0.9997 - recall: 0.9997 - val_accuracy: 0.0195 - val_f1_score: 0.0130 - val_loss: 9.9264 - val_precision: 0.0198 - val_recall: 0.0195\n",
      "Epoch 48/100\n",
      "\u001b[1m32/32\u001b[0m \u001b[32m━━━━━━━━━━━━━━━━━━━━\u001b[0m\u001b[37m\u001b[0m \u001b[1m1s\u001b[0m 45ms/step - accuracy: 0.9858 - f1_score: 0.7891 - loss: 0.0681 - precision: 0.9858 - recall: 0.9858 - val_accuracy: 0.0195 - val_f1_score: 0.0124 - val_loss: 10.1225 - val_precision: 0.0199 - val_recall: 0.0195\n",
      "Epoch 49/100\n",
      "\u001b[1m32/32\u001b[0m \u001b[32m━━━━━━━━━━━━━━━━━━━━\u001b[0m\u001b[37m\u001b[0m \u001b[1m1s\u001b[0m 44ms/step - accuracy: 0.9904 - f1_score: 0.7924 - loss: 0.0269 - precision: 0.9904 - recall: 0.9904 - val_accuracy: 0.0156 - val_f1_score: 0.0098 - val_loss: 8.7152 - val_precision: 0.0158 - val_recall: 0.0156\n",
      "Epoch 50/100\n",
      "\u001b[1m32/32\u001b[0m \u001b[32m━━━━━━━━━━━━━━━━━━━━\u001b[0m\u001b[37m\u001b[0m \u001b[1m1s\u001b[0m 46ms/step - accuracy: 0.9992 - f1_score: 0.7933 - loss: 0.0052 - precision: 0.9992 - recall: 0.9992 - val_accuracy: 0.0156 - val_f1_score: 0.0090 - val_loss: 9.2742 - val_precision: 0.0158 - val_recall: 0.0156\n",
      "Epoch 51/100\n",
      "\u001b[1m32/32\u001b[0m \u001b[32m━━━━━━━━━━━━━━━━━━━━\u001b[0m\u001b[37m\u001b[0m \u001b[1m1s\u001b[0m 45ms/step - accuracy: 0.9985 - f1_score: 0.7988 - loss: 0.0055 - precision: 0.9985 - recall: 0.9985 - val_accuracy: 0.0195 - val_f1_score: 0.0113 - val_loss: 9.6061 - val_precision: 0.0198 - val_recall: 0.0195\n",
      "Epoch 52/100\n",
      "\u001b[1m32/32\u001b[0m \u001b[32m━━━━━━━━━━━━━━━━━━━━\u001b[0m\u001b[37m\u001b[0m \u001b[1m1s\u001b[0m 45ms/step - accuracy: 1.0000 - f1_score: 0.8000 - loss: 0.0034 - precision: 1.0000 - recall: 1.0000 - val_accuracy: 0.0195 - val_f1_score: 0.0106 - val_loss: 10.2390 - val_precision: 0.0198 - val_recall: 0.0195\n",
      "Epoch 53/100\n",
      "\u001b[1m32/32\u001b[0m \u001b[32m━━━━━━━━━━━━━━━━━━━━\u001b[0m\u001b[37m\u001b[0m \u001b[1m1s\u001b[0m 46ms/step - accuracy: 0.9971 - f1_score: 0.7977 - loss: 0.0034 - precision: 0.9971 - recall: 0.9971 - val_accuracy: 0.0195 - val_f1_score: 0.0109 - val_loss: 10.1769 - val_precision: 0.0198 - val_recall: 0.0195\n",
      "Epoch 54/100\n",
      "\u001b[1m32/32\u001b[0m \u001b[32m━━━━━━━━━━━━━━━━━━━━\u001b[0m\u001b[37m\u001b[0m \u001b[1m1s\u001b[0m 46ms/step - accuracy: 0.9998 - f1_score: 0.7999 - loss: 0.0017 - precision: 0.9998 - recall: 0.9998 - val_accuracy: 0.0195 - val_f1_score: 0.0109 - val_loss: 10.3353 - val_precision: 0.0198 - val_recall: 0.0195\n",
      "Epoch 55/100\n",
      "\u001b[1m32/32\u001b[0m \u001b[32m━━━━━━━━━━━━━━━━━━━━\u001b[0m\u001b[37m\u001b[0m \u001b[1m2s\u001b[0m 49ms/step - accuracy: 1.0000 - f1_score: 0.8000 - loss: 0.0025 - precision: 1.0000 - recall: 1.0000 - val_accuracy: 0.0195 - val_f1_score: 0.0108 - val_loss: 10.5257 - val_precision: 0.0199 - val_recall: 0.0195\n",
      "Epoch 56/100\n",
      "\u001b[1m32/32\u001b[0m \u001b[32m━━━━━━━━━━━━━━━━━━━━\u001b[0m\u001b[37m\u001b[0m \u001b[1m1s\u001b[0m 46ms/step - accuracy: 0.9988 - f1_score: 0.7990 - loss: 0.0026 - precision: 0.9988 - recall: 0.9988 - val_accuracy: 0.0195 - val_f1_score: 0.0109 - val_loss: 10.5527 - val_precision: 0.0198 - val_recall: 0.0195\n",
      "Epoch 57/100\n",
      "\u001b[1m32/32\u001b[0m \u001b[32m━━━━━━━━━━━━━━━━━━━━\u001b[0m\u001b[37m\u001b[0m \u001b[1m1s\u001b[0m 46ms/step - accuracy: 1.0000 - f1_score: 0.8000 - loss: 0.0011 - precision: 1.0000 - recall: 1.0000 - val_accuracy: 0.0195 - val_f1_score: 0.0108 - val_loss: 10.6926 - val_precision: 0.0198 - val_recall: 0.0195\n",
      "Epoch 58/100\n",
      "\u001b[1m32/32\u001b[0m \u001b[32m━━━━━━━━━━━━━━━━━━━━\u001b[0m\u001b[37m\u001b[0m \u001b[1m1s\u001b[0m 46ms/step - accuracy: 1.0000 - f1_score: 0.8000 - loss: 8.9132e-04 - precision: 1.0000 - recall: 1.0000 - val_accuracy: 0.0195 - val_f1_score: 0.0108 - val_loss: 10.8302 - val_precision: 0.0198 - val_recall: 0.0195\n",
      "Epoch 59/100\n",
      "\u001b[1m32/32\u001b[0m \u001b[32m━━━━━━━━━━━━━━━━━━━━\u001b[0m\u001b[37m\u001b[0m \u001b[1m2s\u001b[0m 48ms/step - accuracy: 1.0000 - f1_score: 0.8000 - loss: 5.9055e-04 - precision: 1.0000 - recall: 1.0000 - val_accuracy: 0.0195 - val_f1_score: 0.0108 - val_loss: 10.9071 - val_precision: 0.0198 - val_recall: 0.0195\n",
      "Epoch 60/100\n",
      "\u001b[1m32/32\u001b[0m \u001b[32m━━━━━━━━━━━━━━━━━━━━\u001b[0m\u001b[37m\u001b[0m \u001b[1m1s\u001b[0m 46ms/step - accuracy: 1.0000 - f1_score: 0.8000 - loss: 7.0633e-04 - precision: 1.0000 - recall: 1.0000 - val_accuracy: 0.0195 - val_f1_score: 0.0108 - val_loss: 11.0003 - val_precision: 0.0198 - val_recall: 0.0195\n",
      "Epoch 61/100\n",
      "\u001b[1m32/32\u001b[0m \u001b[32m━━━━━━━━━━━━━━━━━━━━\u001b[0m\u001b[37m\u001b[0m \u001b[1m2s\u001b[0m 47ms/step - accuracy: 1.0000 - f1_score: 0.8000 - loss: 6.5088e-04 - precision: 1.0000 - recall: 1.0000 - val_accuracy: 0.0195 - val_f1_score: 0.0108 - val_loss: 11.0612 - val_precision: 0.0198 - val_recall: 0.0195\n",
      "Epoch 62/100\n",
      "\u001b[1m32/32\u001b[0m \u001b[32m━━━━━━━━━━━━━━━━━━━━\u001b[0m\u001b[37m\u001b[0m \u001b[1m2s\u001b[0m 47ms/step - accuracy: 1.0000 - f1_score: 0.8000 - loss: 4.9921e-04 - precision: 1.0000 - recall: 1.0000 - val_accuracy: 0.0195 - val_f1_score: 0.0108 - val_loss: 11.1012 - val_precision: 0.0198 - val_recall: 0.0195\n",
      "Epoch 63/100\n",
      "\u001b[1m32/32\u001b[0m \u001b[32m━━━━━━━━━━━━━━━━━━━━\u001b[0m\u001b[37m\u001b[0m \u001b[1m1s\u001b[0m 47ms/step - accuracy: 1.0000 - f1_score: 0.8000 - loss: 9.9291e-04 - precision: 1.0000 - recall: 1.0000 - val_accuracy: 0.0195 - val_f1_score: 0.0108 - val_loss: 11.2297 - val_precision: 0.0198 - val_recall: 0.0195\n",
      "Epoch 64/100\n",
      "\u001b[1m32/32\u001b[0m \u001b[32m━━━━━━━━━━━━━━━━━━━━\u001b[0m\u001b[37m\u001b[0m \u001b[1m2s\u001b[0m 48ms/step - accuracy: 1.0000 - f1_score: 0.8000 - loss: 6.5364e-04 - precision: 1.0000 - recall: 1.0000 - val_accuracy: 0.0195 - val_f1_score: 0.0107 - val_loss: 11.3040 - val_precision: 0.0198 - val_recall: 0.0195\n",
      "Epoch 65/100\n",
      "\u001b[1m32/32\u001b[0m \u001b[32m━━━━━━━━━━━━━━━━━━━━\u001b[0m\u001b[37m\u001b[0m \u001b[1m1s\u001b[0m 47ms/step - accuracy: 1.0000 - f1_score: 0.8000 - loss: 5.2937e-04 - precision: 1.0000 - recall: 1.0000 - val_accuracy: 0.0195 - val_f1_score: 0.0106 - val_loss: 11.3683 - val_precision: 0.0198 - val_recall: 0.0195\n",
      "Epoch 66/100\n",
      "\u001b[1m32/32\u001b[0m \u001b[32m━━━━━━━━━━━━━━━━━━━━\u001b[0m\u001b[37m\u001b[0m \u001b[1m1s\u001b[0m 46ms/step - accuracy: 1.0000 - f1_score: 0.8000 - loss: 4.2714e-04 - precision: 1.0000 - recall: 1.0000 - val_accuracy: 0.0195 - val_f1_score: 0.0106 - val_loss: 11.4417 - val_precision: 0.0198 - val_recall: 0.0195\n",
      "Epoch 67/100\n",
      "\u001b[1m32/32\u001b[0m \u001b[32m━━━━━━━━━━━━━━━━━━━━\u001b[0m\u001b[37m\u001b[0m \u001b[1m2s\u001b[0m 48ms/step - accuracy: 1.0000 - f1_score: 0.8000 - loss: 8.0458e-04 - precision: 1.0000 - recall: 1.0000 - val_accuracy: 0.0195 - val_f1_score: 0.0106 - val_loss: 11.5329 - val_precision: 0.0198 - val_recall: 0.0195\n",
      "Epoch 68/100\n",
      "\u001b[1m32/32\u001b[0m \u001b[32m━━━━━━━━━━━━━━━━━━━━\u001b[0m\u001b[37m\u001b[0m \u001b[1m2s\u001b[0m 49ms/step - accuracy: 1.0000 - f1_score: 0.8000 - loss: 5.1239e-04 - precision: 1.0000 - recall: 1.0000 - val_accuracy: 0.0195 - val_f1_score: 0.0106 - val_loss: 11.5825 - val_precision: 0.0198 - val_recall: 0.0195\n",
      "Epoch 69/100\n",
      "\u001b[1m32/32\u001b[0m \u001b[32m━━━━━━━━━━━━━━━━━━━━\u001b[0m\u001b[37m\u001b[0m \u001b[1m1s\u001b[0m 44ms/step - accuracy: 1.0000 - f1_score: 0.8000 - loss: 3.8959e-04 - precision: 1.0000 - recall: 1.0000 - val_accuracy: 0.0195 - val_f1_score: 0.0106 - val_loss: 11.6397 - val_precision: 0.0198 - val_recall: 0.0195\n",
      "Epoch 70/100\n",
      "\u001b[1m32/32\u001b[0m \u001b[32m━━━━━━━━━━━━━━━━━━━━\u001b[0m\u001b[37m\u001b[0m \u001b[1m2s\u001b[0m 47ms/step - accuracy: 1.0000 - f1_score: 0.8000 - loss: 4.7551e-04 - precision: 1.0000 - recall: 1.0000 - val_accuracy: 0.0195 - val_f1_score: 0.0106 - val_loss: 11.7236 - val_precision: 0.0198 - val_recall: 0.0195\n",
      "Epoch 71/100\n",
      "\u001b[1m32/32\u001b[0m \u001b[32m━━━━━━━━━━━━━━━━━━━━\u001b[0m\u001b[37m\u001b[0m \u001b[1m1s\u001b[0m 45ms/step - accuracy: 1.0000 - f1_score: 0.8000 - loss: 2.9172e-04 - precision: 1.0000 - recall: 1.0000 - val_accuracy: 0.0195 - val_f1_score: 0.0106 - val_loss: 11.8035 - val_precision: 0.0198 - val_recall: 0.0195\n",
      "Epoch 72/100\n",
      "\u001b[1m32/32\u001b[0m \u001b[32m━━━━━━━━━━━━━━━━━━━━\u001b[0m\u001b[37m\u001b[0m \u001b[1m1s\u001b[0m 46ms/step - accuracy: 1.0000 - f1_score: 0.8000 - loss: 4.1202e-04 - precision: 1.0000 - recall: 1.0000 - val_accuracy: 0.0195 - val_f1_score: 0.0106 - val_loss: 11.8451 - val_precision: 0.0198 - val_recall: 0.0195\n",
      "Epoch 73/100\n",
      "\u001b[1m32/32\u001b[0m \u001b[32m━━━━━━━━━━━━━━━━━━━━\u001b[0m\u001b[37m\u001b[0m \u001b[1m1s\u001b[0m 45ms/step - accuracy: 1.0000 - f1_score: 0.8000 - loss: 4.0905e-04 - precision: 1.0000 - recall: 1.0000 - val_accuracy: 0.0195 - val_f1_score: 0.0106 - val_loss: 11.9398 - val_precision: 0.0198 - val_recall: 0.0195\n",
      "Epoch 74/100\n",
      "\u001b[1m32/32\u001b[0m \u001b[32m━━━━━━━━━━━━━━━━━━━━\u001b[0m\u001b[37m\u001b[0m \u001b[1m1s\u001b[0m 46ms/step - accuracy: 1.0000 - f1_score: 0.8000 - loss: 3.4047e-04 - precision: 1.0000 - recall: 1.0000 - val_accuracy: 0.0195 - val_f1_score: 0.0106 - val_loss: 12.0148 - val_precision: 0.0198 - val_recall: 0.0195\n",
      "Epoch 75/100\n",
      "\u001b[1m32/32\u001b[0m \u001b[32m━━━━━━━━━━━━━━━━━━━━\u001b[0m\u001b[37m\u001b[0m \u001b[1m1s\u001b[0m 46ms/step - accuracy: 1.0000 - f1_score: 0.8000 - loss: 2.8699e-04 - precision: 1.0000 - recall: 1.0000 - val_accuracy: 0.0195 - val_f1_score: 0.0106 - val_loss: 12.0694 - val_precision: 0.0198 - val_recall: 0.0195\n",
      "Epoch 76/100\n",
      "\u001b[1m32/32\u001b[0m \u001b[32m━━━━━━━━━━━━━━━━━━━━\u001b[0m\u001b[37m\u001b[0m \u001b[1m2s\u001b[0m 48ms/step - accuracy: 1.0000 - f1_score: 0.8000 - loss: 4.3571e-04 - precision: 1.0000 - recall: 1.0000 - val_accuracy: 0.0195 - val_f1_score: 0.0106 - val_loss: 12.1105 - val_precision: 0.0198 - val_recall: 0.0195\n",
      "Epoch 77/100\n",
      "\u001b[1m32/32\u001b[0m \u001b[32m━━━━━━━━━━━━━━━━━━━━\u001b[0m\u001b[37m\u001b[0m \u001b[1m1s\u001b[0m 47ms/step - accuracy: 1.0000 - f1_score: 0.8000 - loss: 2.0334e-04 - precision: 1.0000 - recall: 1.0000 - val_accuracy: 0.0195 - val_f1_score: 0.0106 - val_loss: 12.1556 - val_precision: 0.0198 - val_recall: 0.0195\n",
      "Epoch 78/100\n",
      "\u001b[1m32/32\u001b[0m \u001b[32m━━━━━━━━━━━━━━━━━━━━\u001b[0m\u001b[37m\u001b[0m \u001b[1m2s\u001b[0m 50ms/step - accuracy: 1.0000 - f1_score: 0.8000 - loss: 2.4314e-04 - precision: 1.0000 - recall: 1.0000 - val_accuracy: 0.0195 - val_f1_score: 0.0106 - val_loss: 12.2021 - val_precision: 0.0198 - val_recall: 0.0195\n",
      "Epoch 79/100\n",
      "\u001b[1m32/32\u001b[0m \u001b[32m━━━━━━━━━━━━━━━━━━━━\u001b[0m\u001b[37m\u001b[0m \u001b[1m1s\u001b[0m 46ms/step - accuracy: 1.0000 - f1_score: 0.8000 - loss: 1.5578e-04 - precision: 1.0000 - recall: 1.0000 - val_accuracy: 0.0195 - val_f1_score: 0.0106 - val_loss: 12.2394 - val_precision: 0.0199 - val_recall: 0.0195\n",
      "Epoch 80/100\n",
      "\u001b[1m32/32\u001b[0m \u001b[32m━━━━━━━━━━━━━━━━━━━━\u001b[0m\u001b[37m\u001b[0m \u001b[1m2s\u001b[0m 47ms/step - accuracy: 1.0000 - f1_score: 0.8000 - loss: 2.6136e-04 - precision: 1.0000 - recall: 1.0000 - val_accuracy: 0.0195 - val_f1_score: 0.0106 - val_loss: 12.2658 - val_precision: 0.0198 - val_recall: 0.0195\n",
      "Epoch 81/100\n",
      "\u001b[1m32/32\u001b[0m \u001b[32m━━━━━━━━━━━━━━━━━━━━\u001b[0m\u001b[37m\u001b[0m \u001b[1m2s\u001b[0m 47ms/step - accuracy: 1.0000 - f1_score: 0.8000 - loss: 2.9980e-04 - precision: 1.0000 - recall: 1.0000 - val_accuracy: 0.0195 - val_f1_score: 0.0106 - val_loss: 12.3091 - val_precision: 0.0198 - val_recall: 0.0195\n",
      "Epoch 82/100\n",
      "\u001b[1m32/32\u001b[0m \u001b[32m━━━━━━━━━━━━━━━━━━━━\u001b[0m\u001b[37m\u001b[0m \u001b[1m2s\u001b[0m 48ms/step - accuracy: 1.0000 - f1_score: 0.8000 - loss: 8.7386e-04 - precision: 1.0000 - recall: 1.0000 - val_accuracy: 0.0195 - val_f1_score: 0.0107 - val_loss: 12.3216 - val_precision: 0.0197 - val_recall: 0.0195\n",
      "Epoch 83/100\n",
      "\u001b[1m32/32\u001b[0m \u001b[32m━━━━━━━━━━━━━━━━━━━━\u001b[0m\u001b[37m\u001b[0m \u001b[1m2s\u001b[0m 49ms/step - accuracy: 1.0000 - f1_score: 0.8000 - loss: 3.2815e-04 - precision: 1.0000 - recall: 1.0000 - val_accuracy: 0.0195 - val_f1_score: 0.0106 - val_loss: 12.4878 - val_precision: 0.0197 - val_recall: 0.0195\n",
      "Epoch 84/100\n",
      "\u001b[1m32/32\u001b[0m \u001b[32m━━━━━━━━━━━━━━━━━━━━\u001b[0m\u001b[37m\u001b[0m \u001b[1m2s\u001b[0m 47ms/step - accuracy: 1.0000 - f1_score: 0.8000 - loss: 1.6566e-04 - precision: 1.0000 - recall: 1.0000 - val_accuracy: 0.0195 - val_f1_score: 0.0106 - val_loss: 12.5727 - val_precision: 0.0198 - val_recall: 0.0195\n",
      "Epoch 85/100\n",
      "\u001b[1m32/32\u001b[0m \u001b[32m━━━━━━━━━━━━━━━━━━━━\u001b[0m\u001b[37m\u001b[0m \u001b[1m2s\u001b[0m 47ms/step - accuracy: 1.0000 - f1_score: 0.8000 - loss: 2.0955e-04 - precision: 1.0000 - recall: 1.0000 - val_accuracy: 0.0195 - val_f1_score: 0.0106 - val_loss: 12.5924 - val_precision: 0.0198 - val_recall: 0.0195\n",
      "Epoch 86/100\n",
      "\u001b[1m32/32\u001b[0m \u001b[32m━━━━━━━━━━━━━━━━━━━━\u001b[0m\u001b[37m\u001b[0m \u001b[1m1s\u001b[0m 47ms/step - accuracy: 1.0000 - f1_score: 0.8000 - loss: 2.1865e-04 - precision: 1.0000 - recall: 1.0000 - val_accuracy: 0.0195 - val_f1_score: 0.0106 - val_loss: 12.5989 - val_precision: 0.0197 - val_recall: 0.0195\n",
      "Epoch 87/100\n",
      "\u001b[1m32/32\u001b[0m \u001b[32m━━━━━━━━━━━━━━━━━━━━\u001b[0m\u001b[37m\u001b[0m \u001b[1m2s\u001b[0m 47ms/step - accuracy: 1.0000 - f1_score: 0.8000 - loss: 4.6078e-04 - precision: 1.0000 - recall: 1.0000 - val_accuracy: 0.0195 - val_f1_score: 0.0106 - val_loss: 12.6107 - val_precision: 0.0198 - val_recall: 0.0195\n",
      "Epoch 88/100\n",
      "\u001b[1m32/32\u001b[0m \u001b[32m━━━━━━━━━━━━━━━━━━━━\u001b[0m\u001b[37m\u001b[0m \u001b[1m2s\u001b[0m 48ms/step - accuracy: 1.0000 - f1_score: 0.8000 - loss: 1.6773e-04 - precision: 1.0000 - recall: 1.0000 - val_accuracy: 0.0195 - val_f1_score: 0.0106 - val_loss: 12.6864 - val_precision: 0.0198 - val_recall: 0.0195\n",
      "Epoch 89/100\n",
      "\u001b[1m32/32\u001b[0m \u001b[32m━━━━━━━━━━━━━━━━━━━━\u001b[0m\u001b[37m\u001b[0m \u001b[1m2s\u001b[0m 48ms/step - accuracy: 1.0000 - f1_score: 0.8000 - loss: 2.3454e-04 - precision: 1.0000 - recall: 1.0000 - val_accuracy: 0.0195 - val_f1_score: 0.0106 - val_loss: 12.7506 - val_precision: 0.0197 - val_recall: 0.0195\n",
      "Epoch 90/100\n",
      "\u001b[1m32/32\u001b[0m \u001b[32m━━━━━━━━━━━━━━━━━━━━\u001b[0m\u001b[37m\u001b[0m \u001b[1m2s\u001b[0m 48ms/step - accuracy: 1.0000 - f1_score: 0.8000 - loss: 3.7382e-04 - precision: 1.0000 - recall: 1.0000 - val_accuracy: 0.0195 - val_f1_score: 0.0106 - val_loss: 12.8510 - val_precision: 0.0198 - val_recall: 0.0195\n",
      "Epoch 91/100\n",
      "\u001b[1m32/32\u001b[0m \u001b[32m━━━━━━━━━━━━━━━━━━━━\u001b[0m\u001b[37m\u001b[0m \u001b[1m1s\u001b[0m 47ms/step - accuracy: 1.0000 - f1_score: 0.8000 - loss: 1.5141e-04 - precision: 1.0000 - recall: 1.0000 - val_accuracy: 0.0195 - val_f1_score: 0.0106 - val_loss: 12.9129 - val_precision: 0.0198 - val_recall: 0.0195\n",
      "Epoch 92/100\n",
      "\u001b[1m32/32\u001b[0m \u001b[32m━━━━━━━━━━━━━━━━━━━━\u001b[0m\u001b[37m\u001b[0m \u001b[1m2s\u001b[0m 48ms/step - accuracy: 1.0000 - f1_score: 0.8000 - loss: 1.8016e-04 - precision: 1.0000 - recall: 1.0000 - val_accuracy: 0.0195 - val_f1_score: 0.0106 - val_loss: 12.9637 - val_precision: 0.0198 - val_recall: 0.0195\n",
      "Epoch 93/100\n",
      "\u001b[1m32/32\u001b[0m \u001b[32m━━━━━━━━━━━━━━━━━━━━\u001b[0m\u001b[37m\u001b[0m \u001b[1m1s\u001b[0m 45ms/step - accuracy: 1.0000 - f1_score: 0.8000 - loss: 1.7742e-04 - precision: 1.0000 - recall: 1.0000 - val_accuracy: 0.0195 - val_f1_score: 0.0106 - val_loss: 12.9929 - val_precision: 0.0198 - val_recall: 0.0195\n",
      "Epoch 94/100\n",
      "\u001b[1m32/32\u001b[0m \u001b[32m━━━━━━━━━━━━━━━━━━━━\u001b[0m\u001b[37m\u001b[0m \u001b[1m1s\u001b[0m 45ms/step - accuracy: 1.0000 - f1_score: 0.8000 - loss: 1.5461e-04 - precision: 1.0000 - recall: 1.0000 - val_accuracy: 0.0195 - val_f1_score: 0.0106 - val_loss: 13.0319 - val_precision: 0.0197 - val_recall: 0.0195\n",
      "Epoch 95/100\n",
      "\u001b[1m32/32\u001b[0m \u001b[32m━━━━━━━━━━━━━━━━━━━━\u001b[0m\u001b[37m\u001b[0m \u001b[1m1s\u001b[0m 46ms/step - accuracy: 1.0000 - f1_score: 0.8000 - loss: 9.6995e-05 - precision: 1.0000 - recall: 1.0000 - val_accuracy: 0.0195 - val_f1_score: 0.0106 - val_loss: 13.0813 - val_precision: 0.0197 - val_recall: 0.0195\n",
      "Epoch 96/100\n",
      "\u001b[1m32/32\u001b[0m \u001b[32m━━━━━━━━━━━━━━━━━━━━\u001b[0m\u001b[37m\u001b[0m \u001b[1m1s\u001b[0m 45ms/step - accuracy: 1.0000 - f1_score: 0.8000 - loss: 1.2225e-04 - precision: 1.0000 - recall: 1.0000 - val_accuracy: 0.0195 - val_f1_score: 0.0106 - val_loss: 13.1238 - val_precision: 0.0198 - val_recall: 0.0195\n",
      "Epoch 97/100\n",
      "\u001b[1m32/32\u001b[0m \u001b[32m━━━━━━━━━━━━━━━━━━━━\u001b[0m\u001b[37m\u001b[0m \u001b[1m1s\u001b[0m 46ms/step - accuracy: 1.0000 - f1_score: 0.8000 - loss: 1.0154e-04 - precision: 1.0000 - recall: 1.0000 - val_accuracy: 0.0195 - val_f1_score: 0.0106 - val_loss: 13.1577 - val_precision: 0.0197 - val_recall: 0.0195\n",
      "Epoch 98/100\n",
      "\u001b[1m32/32\u001b[0m \u001b[32m━━━━━━━━━━━━━━━━━━━━\u001b[0m\u001b[37m\u001b[0m \u001b[1m1s\u001b[0m 45ms/step - accuracy: 1.0000 - f1_score: 0.8000 - loss: 6.9266e-05 - precision: 1.0000 - recall: 1.0000 - val_accuracy: 0.0195 - val_f1_score: 0.0106 - val_loss: 13.1804 - val_precision: 0.0197 - val_recall: 0.0195\n",
      "Epoch 99/100\n",
      "\u001b[1m32/32\u001b[0m \u001b[32m━━━━━━━━━━━━━━━━━━━━\u001b[0m\u001b[37m\u001b[0m \u001b[1m1s\u001b[0m 44ms/step - accuracy: 1.0000 - f1_score: 0.8000 - loss: 1.1694e-04 - precision: 1.0000 - recall: 1.0000 - val_accuracy: 0.0195 - val_f1_score: 0.0106 - val_loss: 13.2154 - val_precision: 0.0197 - val_recall: 0.0195\n",
      "Epoch 100/100\n",
      "\u001b[1m32/32\u001b[0m \u001b[32m━━━━━━━━━━━━━━━━━━━━\u001b[0m\u001b[37m\u001b[0m \u001b[1m1s\u001b[0m 44ms/step - accuracy: 1.0000 - f1_score: 0.8000 - loss: 1.2252e-04 - precision: 1.0000 - recall: 1.0000 - val_accuracy: 0.0195 - val_f1_score: 0.0106 - val_loss: 13.2364 - val_precision: 0.0197 - val_recall: 0.0195\n"
     ]
    }
   ],
   "source": [
    "history = model.fit(\n",
    "    X_train_final, y_train,\n",
    "    validation_split=0.2,\n",
    "    epochs=100,\n",
    "    batch_size=32\n",
    ")\n"
   ]
  },
  {
   "cell_type": "code",
   "execution_count": 6,
   "id": "2ef54410",
   "metadata": {},
   "outputs": [
    {
     "name": "stdout",
     "output_type": "stream",
     "text": [
      "\u001b[1m4/4\u001b[0m \u001b[32m━━━━━━━━━━━━━━━━━━━━\u001b[0m\u001b[37m\u001b[0m \u001b[1m0s\u001b[0m 15ms/step - accuracy: 0.5566 - f1_score: 0.3243 - loss: 4.9846 - precision: 0.5566 - recall: 0.5566 \n",
      "Test accuracy: 0.6102\n"
     ]
    }
   ],
   "source": [
    "test_loss, test_acc, *metrics = model.evaluate(X_test_final, y_test)\n",
    "print(f\"Test accuracy: {test_acc:.4f}\")"
   ]
  },
  {
   "cell_type": "code",
   "execution_count": 7,
   "id": "ce4d89a3",
   "metadata": {},
   "outputs": [
    {
     "data": {
      "image/png": "[encoded data removed]",
      "text/plain": [
       "<Figure size 1200x500 with 2 Axes>"
      ]
     },
     "metadata": {},
     "output_type": "display_data"
    }
   ],
   "source": [
    "import matplotlib.pyplot as plt\n",
    "\n",
    "# === Plot training history ===\n",
    "plt.figure(figsize=(12, 5))\n",
    "\n",
    "# Accuracy plot\n",
    "plt.subplot(1, 2, 1)\n",
    "plt.plot(history.history['accuracy'], label='Train Accuracy')\n",
    "plt.plot(history.history['val_accuracy'], label='Val Accuracy')\n",
    "plt.title(\"Model Accuracy\")\n",
    "plt.xlabel(\"Epoch\")\n",
    "plt.ylabel(\"Accuracy\")\n",
    "plt.legend()\n",
    "plt.grid(True)\n",
    "\n",
    "# Loss plot\n",
    "plt.subplot(1, 2, 2)\n",
    "plt.plot(history.history['loss'], label='Train Loss')\n",
    "plt.plot(history.history['val_loss'], label='Val Loss')\n",
    "plt.title(\"Model Loss\")\n",
    "plt.xlabel(\"Epoch\")\n",
    "plt.ylabel(\"Loss\")\n",
    "plt.legend()\n",
    "plt.grid(True)\n",
    "\n",
    "plt.tight_layout()\n",
    "plt.show()"
   ]
  },
  {
   "cell_type": "code",
   "execution_count": 8,
   "id": "e857a13d",
   "metadata": {},
   "outputs": [
    {
     "name": "stdout",
     "output_type": "stream",
     "text": [
      "\u001b[1m4/4\u001b[0m \u001b[32m━━━━━━━━━━━━━━━━━━━━\u001b[0m\u001b[37m\u001b[0m \u001b[1m0s\u001b[0m 59ms/step\n"
     ]
    }
   ],
   "source": [
    "y_pred = model.predict(X_test_final)\n",
    "y_pred_classes = np.argmax(y_pred, axis=1)\n",
    "y_true_classes = np.argmax(y_test, axis=1)\n"
   ]
  },
  {
   "cell_type": "code",
   "execution_count": 9,
   "id": "c57f58aa",
   "metadata": {},
   "outputs": [
    {
     "data": {
      "image/png": "[encoded data removed]",
      "text/plain": [
       "<Figure size 600x500 with 2 Axes>"
      ]
     },
     "metadata": {},
     "output_type": "display_data"
    }
   ],
   "source": [
    "from sklearn.metrics import confusion_matrix, ConfusionMatrixDisplay\n",
    "import seaborn as sns\n",
    "\n",
    "# Compute confusion matrix\n",
    "cm = confusion_matrix(y_true_classes, y_pred_classes)\n",
    "\n",
    "# Plot using seaborn heatmap\n",
    "plt.figure(figsize=(6,5))\n",
    "sns.heatmap(cm, annot=True, fmt='d', cmap='Blues')\n",
    "plt.title('Confusion Matrix')\n",
    "plt.xlabel('Predicted Label')\n",
    "plt.ylabel('True Label')\n",
    "plt.show()"
   ]
  }
 ],
 "metadata": {
  "kernelspec": {
   "display_name": ".venv",
   "language": "python",
   "name": "python3"
  },
  "language_info": {
   "codemirror_mode": {
    "name": "ipython",
    "version": 3
   },
   "file_extension": ".py",
   "mimetype": "text/x-python",
   "name": "python",
   "nbconvert_exporter": "python",
   "pygments_lexer": "ipython3",
   "version": "3.10.17"
  }
 },
 "nbformat": 4,
 "nbformat_minor": 5
}
